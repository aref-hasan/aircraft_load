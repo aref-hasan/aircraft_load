{
 "cells": [
  {
   "cell_type": "code",
   "execution_count": 1,
   "metadata": {},
   "outputs": [],
   "source": [
    "import pandas as pd\n",
    "import re"
   ]
  },
  {
   "cell_type": "code",
   "execution_count": 2,
   "metadata": {},
   "outputs": [],
   "source": [
    "continents = [\"europe\", \"asia\", \"america\"]"
   ]
  },
  {
   "cell_type": "code",
   "execution_count": null,
   "metadata": {},
   "outputs": [],
   "source": [
    "europe = pd.read_parquet('data/data_parquet/europe_data.parquet')\n",
    "asia = pd.read_parquet('data/data_parquet/asia_data.parquet')\n",
    "america = pd.read_parquet('data/data_parquet/america_data.parquet')\n",
    "data = pd.concat([europe, asia, america])"
   ]
  },
  {
   "cell_type": "code",
   "execution_count": 20,
   "metadata": {},
   "outputs": [],
   "source": [
    "actions = pd.read_excel('data/Liste der Actions.xlsx')\n",
    "action_names = actions[\"Action Name\"].values"
   ]
  },
  {
   "cell_type": "code",
   "execution_count": 29,
   "metadata": {},
   "outputs": [],
   "source": [
    "filtered_df = None\n",
    "counter = 0\n",
    "for action in action_names:\n",
    "    tempdf = None\n",
    "    if action == action_names[0]:\n",
    "        tempDF = data[data[\"action_name\"] == action]\n",
    "        tempDF = tempDF.head(10)\n",
    "    else:\n",
    "        actiondf = data[data[\"action_name\"] == action].head(10)\n",
    "        tempDF = pd.concat([filtered_df, actiondf])\n",
    "    filtered_df = tempDF\n"
   ]
  },
  {
   "cell_type": "code",
   "execution_count": 31,
   "metadata": {},
   "outputs": [],
   "source": [
    "filtered_df.to_csv('data/actions.csv')"
   ]
  }
 ],
 "metadata": {
  "kernelspec": {
   "display_name": ".venv",
   "language": "python",
   "name": "python3"
  },
  "language_info": {
   "codemirror_mode": {
    "name": "ipython",
    "version": 3
   },
   "file_extension": ".py",
   "mimetype": "text/x-python",
   "name": "python",
   "nbconvert_exporter": "python",
   "pygments_lexer": "ipython3",
   "version": "3.12.3"
  }
 },
 "nbformat": 4,
 "nbformat_minor": 2
}
