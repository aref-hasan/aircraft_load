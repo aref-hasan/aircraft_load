{
 "cells": [
  {
   "cell_type": "code",
   "execution_count": 1,
   "metadata": {},
   "outputs": [
    {
     "ename": "ImportError",
     "evalue": "cannot import name 'factory' from 'pm4py.objects.conversion.log' (/Library/Frameworks/Python.framework/Versions/3.12/lib/python3.12/site-packages/pm4py/objects/conversion/log/__init__.py)",
     "output_type": "error",
     "traceback": [
      "\u001b[0;31m---------------------------------------------------------------------------\u001b[0m",
      "\u001b[0;31mImportError\u001b[0m                               Traceback (most recent call last)",
      "Cell \u001b[0;32mIn[1], line 3\u001b[0m\n\u001b[1;32m      1\u001b[0m \u001b[38;5;28;01mimport\u001b[39;00m \u001b[38;5;21;01mpandas\u001b[39;00m \u001b[38;5;28;01mas\u001b[39;00m \u001b[38;5;21;01mpd\u001b[39;00m\n\u001b[1;32m      2\u001b[0m \u001b[38;5;28;01mfrom\u001b[39;00m \u001b[38;5;21;01mpm4py\u001b[39;00m\u001b[38;5;21;01m.\u001b[39;00m\u001b[38;5;21;01mobjects\u001b[39;00m\u001b[38;5;21;01m.\u001b[39;00m\u001b[38;5;21;01mlog\u001b[39;00m\u001b[38;5;21;01m.\u001b[39;00m\u001b[38;5;21;01mutil\u001b[39;00m \u001b[38;5;28;01mimport\u001b[39;00m dataframe_utils\n\u001b[0;32m----> 3\u001b[0m \u001b[38;5;28;01mfrom\u001b[39;00m \u001b[38;5;21;01mpm4py\u001b[39;00m\u001b[38;5;21;01m.\u001b[39;00m\u001b[38;5;21;01mobjects\u001b[39;00m\u001b[38;5;21;01m.\u001b[39;00m\u001b[38;5;21;01mconversion\u001b[39;00m\u001b[38;5;21;01m.\u001b[39;00m\u001b[38;5;21;01mlog\u001b[39;00m \u001b[38;5;28;01mimport\u001b[39;00m factory \u001b[38;5;28;01mas\u001b[39;00m log_conversion_factory\n\u001b[1;32m      4\u001b[0m \u001b[38;5;28;01mfrom\u001b[39;00m \u001b[38;5;21;01mpm4py\u001b[39;00m\u001b[38;5;21;01m.\u001b[39;00m\u001b[38;5;21;01malgo\u001b[39;00m\u001b[38;5;21;01m.\u001b[39;00m\u001b[38;5;21;01mdiscovery\u001b[39;00m\u001b[38;5;21;01m.\u001b[39;00m\u001b[38;5;21;01malpha\u001b[39;00m \u001b[38;5;28;01mimport\u001b[39;00m factory \u001b[38;5;28;01mas\u001b[39;00m alpha_miner\n\u001b[1;32m      5\u001b[0m \u001b[38;5;66;03m#from pm4py.visualization.petrinet import factory as pn_vis_factory\u001b[39;00m\n",
      "\u001b[0;31mImportError\u001b[0m: cannot import name 'factory' from 'pm4py.objects.conversion.log' (/Library/Frameworks/Python.framework/Versions/3.12/lib/python3.12/site-packages/pm4py/objects/conversion/log/__init__.py)"
     ]
    }
   ],
   "source": [
    "import pandas as pd\n",
    "from pm4py.objects.log.util import dataframe_utils\n",
    "from pm4py.objects.conversion.log import factory as log_conversion_factory\n",
    "from pm4py.algo.discovery.alpha import factory as alpha_miner\n",
    "#from pm4py.visualization.petrinet import factory as pn_vis_factory"
   ]
  },
  {
   "cell_type": "code",
   "execution_count": null,
   "metadata": {},
   "outputs": [],
   "source": [
    "# Laden des Datensatzes\n",
    "file_path = './data/data_samples/america_5_flights.csv'\n",
    "flights_df = pd.read_csv(file_path)\n",
    "\n",
    "# Bereinigen des Datensatzes\n",
    "flights_df_cleaned = flights_df[['id', 'creation_time', 'action_name']]\n",
    "flights_df_cleaned.columns = ['case_id', 'timestamp', 'event']\n",
    "\n",
    "# Konvertieren des Timestamps in das richtige Format\n",
    "flights_df_cleaned['timestamp'] = pd.to_datetime(flights_df_cleaned['timestamp'])\n",
    "\n",
    "# Konvertieren des DataFrames in ein Event Log Format\n",
    "event_log = dataframe_utils.convert_timestamp_columns_in_df(flights_df_cleaned)\n",
    "event_log = log_conversion_factory.apply(event_log)\n",
    "\n",
    "# Prozessmodell entdecken\n",
    "net, initial_marking, final_marking = alpha_miner.apply(event_log)\n",
    "\n",
    "# Visualisieren des Prozessmodells\n",
    "# gviz = pn_vis_factory.apply(net, initial_marking, final_marking)\n",
    "# pn_vis_factory.view(gviz)\n"
   ]
  }
 ],
 "metadata": {
  "kernelspec": {
   "display_name": "Python 3",
   "language": "python",
   "name": "python3"
  },
  "language_info": {
   "codemirror_mode": {
    "name": "ipython",
    "version": 3
   },
   "file_extension": ".py",
   "mimetype": "text/x-python",
   "name": "python",
   "nbconvert_exporter": "python",
   "pygments_lexer": "ipython3",
   "version": "3.12.0"
  }
 },
 "nbformat": 4,
 "nbformat_minor": 2
}
