{
 "cells": [
  {
   "cell_type": "code",
   "execution_count": 22,
   "metadata": {},
   "outputs": [],
   "source": [
    "import pandas as pd\n",
    "import json\n",
    "def load_config(path):\n",
    "    with open(path, 'r') as file:\n",
    "        return json.load(file)\n",
    "\n",
    "config_path = './pandas_config.json'\n",
    "config = load_config(config_path)\n",
    "parquet_config = config['parquet']\n",
    "\n",
    "# Setting up the engine as a global constant\n",
    "ENGINE = parquet_config['engine']\n",
    "COMPRESSION = parquet_config['compression']\n",
    "FILE_PATH = \"./data/data_parquet\"\n",
    "CONTINENTS = [\"asia\", \"america\", \"europe\"]"
   ]
  },
  {
   "cell_type": "code",
   "execution_count": 23,
   "metadata": {},
   "outputs": [],
   "source": [
    "df = None\n",
    "for continent in CONTINENTS:\n",
    "    subset_df = pd.read_parquet(FILE_PATH+f\"/{continent}_data.parquet\", engine=ENGINE)\n",
    "    if continent == CONTINENTS[0]:\n",
    "        df = subset_df\n",
    "    else:\n",
    "        df = pd.concat([df, subset_df], ignore_index=True)\n"
   ]
  },
  {
   "cell_type": "code",
   "execution_count": 24,
   "metadata": {},
   "outputs": [],
   "source": [
    "filtered_actions = df[df['action_name'] == 'CreateZFWMessageAction']\n",
    "filtered_actions[[\"id\", \"entry_details\", \"flight_number\"]][\"entry_details\"].to_csv(\"entry_details.csv\", index=False)"
   ]
  },
  {
   "cell_type": "code",
   "execution_count": null,
   "metadata": {},
   "outputs": [],
   "source": [
    "flight_numbers = filtered_actions[\"flight_number\"].unique()"
   ]
  },
  {
   "cell_type": "code",
   "execution_count": 25,
   "metadata": {},
   "outputs": [],
   "source": [
    "import re\n",
    "flights = {}\n",
    "for flight in flight_numbers:\n",
    "    flight_df = filtered_actions[filtered_actions[\"flight_number\"] == flight]\n",
    "    flight_df.sort_values(by=\"creation_time\", inplace=True)\n",
    "    values = flight_df[\"entry_details\"].values\n",
    "    pattern = r\"^ZFW (\\d+) KG\"\n",
    "\n",
    "    # Using list comprehension to extract digits from matching patterns\n",
    "    estimated_zfw_values = [re.match(pattern, value).group(1) for value in values if re.match(pattern, value)]\n",
    "    \n",
    "    pattern = r\"<actualZFW>\\s*(\\d+)\\s*</actualZFW>\"\n",
    "    actual_zfw_values = [re.search(pattern, value).group(1) for value in values if re.search(pattern, value)]\n",
    "\n",
    "    flights[flight] = {\"estimated_zfw\": estimated_zfw_values, \"actual_zfw\": actual_zfw_values}"
   ]
  }
 ],
 "metadata": {
  "kernelspec": {
   "display_name": ".venv",
   "language": "python",
   "name": "python3"
  },
  "language_info": {
   "codemirror_mode": {
    "name": "ipython",
    "version": 3
   },
   "file_extension": ".py",
   "mimetype": "text/x-python",
   "name": "python",
   "nbconvert_exporter": "python",
   "pygments_lexer": "ipython3",
   "version": "3.12.4"
  }
 },
 "nbformat": 4,
 "nbformat_minor": 2
}
