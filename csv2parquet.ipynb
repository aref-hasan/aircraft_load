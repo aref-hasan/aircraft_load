{
 "cells": [
  {
   "cell_type": "code",
   "execution_count": 5,
   "metadata": {},
   "outputs": [],
   "source": [
    "import pandas as pd"
   ]
  },
  {
   "cell_type": "code",
   "execution_count": 6,
   "metadata": {},
   "outputs": [],
   "source": [
    "file1 = \"data/asia_data.csv\"\n",
    "file2 = \"data/europe_data.csv\"\n",
    "file3 = \"data/america_data.csv\"\n",
    "parquet_file1 = \"data/data_parquet/asia_data.parquet\"\n",
    "parquet_file2 = \"data/data_parquet/europe_data.parquet\"\n",
    "parquet_file3 = \"data/data_parquet/america_data.parquet\""
   ]
  },
  {
   "cell_type": "code",
   "execution_count": 7,
   "metadata": {},
   "outputs": [],
   "source": [
    "df = pd.read_csv(file1, on_bad_lines='skip')\n",
    "df.to_parquet(parquet_file1, engine=\"pyarrow\", compression=\"snappy\")\n",
    "\n",
    "df = pd.read_csv(file2, on_bad_lines='skip')\n",
    "df.to_parquet(parquet_file2, engine=\"pyarrow\", compression=\"snappy\")\n",
    "\n",
    "df = pd.read_csv(file3, on_bad_lines='skip')\n",
    "df.to_parquet(parquet_file3, engine=\"pyarrow\", compression=\"snappy\")"
   ]
  },
  {
   "cell_type": "code",
   "execution_count": 8,
   "metadata": {},
   "outputs": [],
   "source": [
    "df = pd.read_parquet(\"data/data_parquet/europe_data.parquet\").head(1000)\n",
    "df.to_csv(\"data/data_samples/europe_data_1000.csv\")"
   ]
  },
  {
   "cell_type": "code",
   "execution_count": null,
   "metadata": {},
   "outputs": [],
   "source": []
  }
 ],
 "metadata": {
  "kernelspec": {
   "display_name": ".venv",
   "language": "python",
   "name": "python3"
  },
  "language_info": {
   "codemirror_mode": {
    "name": "ipython",
    "version": 3
   },
   "file_extension": ".py",
   "mimetype": "text/x-python",
   "name": "python",
   "nbconvert_exporter": "python",
   "pygments_lexer": "ipython3",
   "version": "3.12.0"
  }
 },
 "nbformat": 4,
 "nbformat_minor": 2
}
