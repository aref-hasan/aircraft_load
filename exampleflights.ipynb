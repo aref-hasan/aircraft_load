{
 "cells": [
  {
   "cell_type": "code",
   "execution_count": 1,
   "metadata": {},
   "outputs": [],
   "source": [
    "import pandas as pd"
   ]
  },
  {
   "cell_type": "code",
   "execution_count": 7,
   "metadata": {},
   "outputs": [],
   "source": [
    "continents = [\"europe\", \"america\", \"asia\"]\n",
    "for continent in continents:\n",
    "    df = pd.read_parquet(f\"data/{continent}_data.parquet\")\n",
    "    flight_numbers = df[\"flight_number\"].values\n",
    "    subset_flight_numbers = flight_numbers[:5]\n",
    "    five_flights = df[df[\"flight_number\"].isin(subset_flight_numbers)]\n",
    "    five_flights.to_csv(f\"data/{continent}_5_flights.csv\")"
   ]
  }
 ],
 "metadata": {
  "kernelspec": {
   "display_name": ".venv",
   "language": "python",
   "name": "python3"
  },
  "language_info": {
   "codemirror_mode": {
    "name": "ipython",
    "version": 3
   },
   "file_extension": ".py",
   "mimetype": "text/x-python",
   "name": "python",
   "nbconvert_exporter": "python",
   "pygments_lexer": "ipython3",
   "version": "3.12.3"
  }
 },
 "nbformat": 4,
 "nbformat_minor": 2
}
