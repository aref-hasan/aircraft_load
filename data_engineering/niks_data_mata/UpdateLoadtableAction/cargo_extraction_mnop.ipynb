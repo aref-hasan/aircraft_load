{
 "cells": [
  {
   "cell_type": "code",
   "execution_count": 1,
   "metadata": {},
   "outputs": [
    {
     "name": "stdout",
     "output_type": "stream",
     "text": [
      "  total_baggage total_cargo total_mnc total_mail departure_airport  \\\n",
      "0          None        None      None       None               DUB   \n",
      "1       1820.00        0.00     88.00       0.00               DUB   \n",
      "2          None        None      None       None               DUB   \n",
      "3       1820.00        0.00    264.00       0.00               DUB   \n",
      "4          None        None      None       None               DUB   \n",
      "\n",
      "                combined            timestamp  \n",
      "0  2024-05_MN_1446.0_1.0  2024-04-30 05:35:40  \n",
      "1  2024-05_MN_1446.0_1.0  2024-04-30 05:35:40  \n",
      "2  2024-05_MN_1446.0_1.0  2024-04-30 05:36:05  \n",
      "3  2024-05_MN_1446.0_1.0  2024-04-30 05:36:05  \n",
      "4  2024-05_MN_1446.0_1.0  2024-04-30 05:35:56  \n"
     ]
    }
   ],
   "source": [
    "import pandas as pd\n",
    "import re\n",
    "\n",
    "def extract_totals_from_details(text):\n",
    "    # Define the regex pattern to capture totals from the text\n",
    "    totals_pattern = re.compile(\n",
    "        r\"Total baggage\\s*:\\s*(?P<total_baggage>[\\d\\.]+)\\s*KG\\s*\"\n",
    "        r\"Total cargo\\s*:\\s*(?P<total_cargo>[\\d\\.]+)\\s*KG\\s*\"\n",
    "        r\"Total MNC\\s*:\\s*(?P<total_mnc>[\\d\\.]+)\\s*KG\\s*\"\n",
    "        r\"Total mail\\s*:\\s*(?P<total_mail>[\\d\\.]+)\\s*KG\"\n",
    "    )\n",
    "    # Search for the pattern\n",
    "    match = totals_pattern.search(text)\n",
    "    return match.groupdict() if match else {\"total_baggage\": None, \"total_cargo\": None, \"total_mnc\": None, \"total_mail\": None}\n",
    "\n",
    "# Load your CSV file\n",
    "file_path = '/Users/nikyakovlev/Documents/GitHub/aircraft_load/data_engineering/niks_data_mata/UpdateLoadtableAction/UpdateLoadTableAction_entries_MNOP.csv'\n",
    "df = pd.read_csv(file_path)\n",
    "\n",
    "# Apply the function to extract totals from the 'entry_details' column\n",
    "df_totals = df['entry_details'].apply(extract_totals_from_details)\n",
    "\n",
    "# Convert the series of dictionaries to a DataFrame\n",
    "baggage_data_df = pd.DataFrame(list(df_totals))\n",
    "\n",
    "# Include the additional columns\n",
    "df['timestamp'] = df['creation_time']\n",
    "df['creation_time'] = pd.to_datetime(df['creation_time']).dt.to_period('M').astype(str)\n",
    "df['creation_time'] = df['creation_time'].str.replace('-04', '-05')\n",
    "df['combined'] = df['creation_time'] + '_' + df['airline_code'] + '_' + df['flight_number'].astype(str) + '_' + df['flight_date'].astype(str)\n",
    "\n",
    "# Add the departure airport column to the baggage_data_df\n",
    "baggage_data_df['departure_airport'] = df['departure_airport']\n",
    "\n",
    "# Add the combined column and timestamp to the baggage_data_df\n",
    "baggage_data_df['combined'] = df['combined']\n",
    "baggage_data_df['timestamp'] = df['timestamp']\n",
    "\n",
    "# Display the first few rows of the final DataFrame\n",
    "print(baggage_data_df.head())\n",
    "\n",
    "# Save the final DataFrame to a new CSV file\n",
    "output_file_path = '/Users/nikyakovlev/Documents/GitHub/aircraft_load/data_engineering/niks_data_mata/UpdateLoadtableAction/extracted_totals_MNOP.csv'\n",
    "baggage_data_df.to_csv(output_file_path, index=False)\n"
   ]
  },
  {
   "cell_type": "code",
   "execution_count": 2,
   "metadata": {},
   "outputs": [
    {
     "name": "stdout",
     "output_type": "stream",
     "text": [
      "       total_baggage  total_cargo  total_mnc  total_mail departure_airport  \\\n",
      "19750          884.0          0.0        0.0         0.0               DUB   \n",
      "19763         1599.0          0.0        0.0         0.0               DUB   \n",
      "19833          585.0        310.0        0.0       654.0               DUB   \n",
      "19861         1027.0        898.0        0.0         0.0               DUB   \n",
      "19950         1118.0          0.0        0.0         0.0               DUB   \n",
      "\n",
      "                     combined           timestamp  \n",
      "19750  2024-05_MN_1680.0_30.0 2024-04-30 04:43:25  \n",
      "19763  2024-05_MN_1450.0_30.0 2024-04-30 04:51:19  \n",
      "19833  2024-05_MN_1602.0_30.0 2024-04-30 04:53:25  \n",
      "19861  2024-05_MN_1592.0_30.0 2024-04-30 04:58:24  \n",
      "19950  2024-05_MN_1152.0_30.0 2024-04-30 05:07:28  \n"
     ]
    }
   ],
   "source": [
    "import pandas as pd\n",
    "\n",
    "# Load the CSV file\n",
    "file_path = '/Users/nikyakovlev/Documents/GitHub/aircraft_load/data_engineering/niks_data_mata/UpdateLoadtableAction/extracted_totals_MNOP.csv'  # Update this path to your CSV file location\n",
    "df = pd.read_csv(file_path)\n",
    "\n",
    "# Ensure that timestamp is a datetime object for proper sorting\n",
    "df['timestamp'] = pd.to_datetime(df['timestamp'])\n",
    "\n",
    "# Filter rows where all specified totals are not null\n",
    "df_filtered = df.dropna(subset=['total_baggage', 'total_cargo', 'total_mnc', 'total_mail'])\n",
    "\n",
    "# Sort by 'timestamp' and 'combined', then drop duplicates keeping the last (most recent) entry for each 'combined'\n",
    "df_latest = df_filtered.sort_values(by=['timestamp', 'combined']).drop_duplicates('combined', keep='last')\n",
    "\n",
    "# Save the final DataFrame to a new CSV file\n",
    "output_file_path = '/Users/nikyakovlev/Documents/GitHub/aircraft_load/data_engineering/niks_data_mata/UpdateLoadtableAction/unique_extracted_totals_MNOP.csv'  # Update this path to where you want to save the new CSV\n",
    "df_latest.to_csv(output_file_path, index=False)\n",
    "\n",
    "# Display the first few rows of the final DataFrame to verify the output\n",
    "print(df_latest.head())\n",
    "\n"
   ]
  }
 ],
 "metadata": {
  "kernelspec": {
   "display_name": ".venv",
   "language": "python",
   "name": "python3"
  },
  "language_info": {
   "name": "python",
   "version": "3.12.3"
  }
 },
 "nbformat": 4,
 "nbformat_minor": 2
}
