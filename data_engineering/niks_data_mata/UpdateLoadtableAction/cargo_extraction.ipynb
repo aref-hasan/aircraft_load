{
 "cells": [
  {
   "cell_type": "code",
   "execution_count": 12,
   "metadata": {},
   "outputs": [
    {
     "name": "stdout",
     "output_type": "stream",
     "text": [
      "  total_cargo total_eic total_mail departure_airport               combined  \\\n",
      "0        None      None       None               GRU  2024-05_ZY_999.0_30.0   \n",
      "1     2020.00      0.00       0.00               GRU  2024-05_ZY_999.0_30.0   \n",
      "2        None      None       None               GRU  2024-05_ZY_999.0_30.0   \n",
      "3     2000.00      0.00       0.00               GRU  2024-05_ZY_999.0_30.0   \n",
      "4        None      None       None               GRU  2024-05_ZY_999.0_30.0   \n",
      "\n",
      "             timestamp  \n",
      "0  2024-04-30 10:20:09  \n",
      "1  2024-04-30 10:20:09  \n",
      "2  2024-04-30 10:17:40  \n",
      "3  2024-04-30 10:17:40  \n",
      "4  2024-04-30 10:17:57  \n"
     ]
    }
   ],
   "source": [
    "import pandas as pd\n",
    "import re\n",
    "\n",
    "def extract_totals_from_details(text):\n",
    "    # Define the regex pattern to capture totals from the text\n",
    "    totals_pattern = re.compile(\n",
    "        r\"Total cargo\\s*:\\s*(?P<total_cargo>[\\d\\.]+)\\s*KG\\s*\"\n",
    "        r\"Total EIC\\s*:\\s*(?P<total_eic>[\\d\\.]+)\\s*KG\\s*\"\n",
    "        r\"Total mail\\s*:\\s*(?P<total_mail>[\\d\\.]+)\\s*KG\"\n",
    "    )\n",
    "    # Search for the pattern\n",
    "    match = totals_pattern.search(text)\n",
    "    return match.groupdict() if match else {\"total_cargo\": None, \"total_eic\": None, \"total_mail\": None}\n",
    "\n",
    "# Load your CSV file\n",
    "file_path = '/Users/nikyakovlev/Documents/GitHub/aircraft_load/data_engineering/niks_data_mata/UpdateLoadtableAction/UpdateLoadTableAction_entries_ZYXW.csv'  # Update this path to your CSV file location\n",
    "df = pd.read_csv(file_path)\n",
    "\n",
    "# Apply the function to extract totals from the 'entry_details' column\n",
    "df_totals = df['entry_details'].apply(extract_totals_from_details)\n",
    "\n",
    "# Convert the series of dictionaries to a DataFrame\n",
    "baggage_data_df = pd.DataFrame(list(df_totals))\n",
    "\n",
    "# Include the additional columns\n",
    "df['timestamp'] = df['creation_time']\n",
    "df['creation_time'] = pd.to_datetime(df['creation_time']).dt.to_period('M').astype(str)\n",
    "df['creation_time'] = df['creation_time'].str.replace('-04', '-05')\n",
    "df['combined'] = df['creation_time'] + '_' + df['airline_code'] + '_' + df['flight_number'].astype(str) + '_' + df['flight_date'].astype(str)\n",
    "\n",
    "# Add the departure airport column to the baggage_data_df\n",
    "baggage_data_df['departure_airport'] = df['departure_airport']\n",
    "\n",
    "# Add the combined column and timestamp to the baggage_data_df\n",
    "baggage_data_df['combined'] = df['combined']\n",
    "baggage_data_df['timestamp'] = df['timestamp']\n",
    "\n",
    "# Display the first few rows of the final DataFrame\n",
    "print(baggage_data_df.head())\n",
    "\n",
    "# Save the final DataFrame to a new CSV file\n",
    "output_file_path = '/Users/nikyakovlev/Documents/GitHub/aircraft_load/data_engineering/niks_data_mata/UpdateLoadtableAction/extracted_totals_ZYXW.csv'  # Update this path to where you want to save the new CSV\n",
    "baggage_data_df.to_csv(output_file_path, index=False)\n"
   ]
  },
  {
   "cell_type": "code",
   "execution_count": 13,
   "metadata": {},
   "outputs": [
    {
     "name": "stdout",
     "output_type": "stream",
     "text": [
      "     total_cargo  total_eic  total_mail departure_airport  \\\n",
      "15        2020.0        0.0         0.0               GRU   \n",
      "66       18160.0        0.0         0.0               BEL   \n",
      "69       25020.0        0.0         0.0               LIS   \n",
      "133      13482.0        0.0         0.0               ORY   \n",
      "180          5.0        0.0         0.0               VCP   \n",
      "\n",
      "                   combined           timestamp  \n",
      "15    2024-05_ZY_999.0_30.0 2024-04-30 10:35:36  \n",
      "66   2024-05_ZY_4483.0_30.0 2024-04-30 12:46:32  \n",
      "69   2024-05_ZY_9888.0_30.0 2024-04-30 13:02:41  \n",
      "133  2024-05_ZY_9700.0_30.0 2024-04-30 15:57:41  \n",
      "180  2024-05_ZY_2002.0_30.0 2024-04-30 18:39:57  \n"
     ]
    }
   ],
   "source": [
    "import pandas as pd\n",
    "\n",
    "# Load the CSV file\n",
    "file_path = '/Users/nikyakovlev/Documents/GitHub/aircraft_load/data_engineering/niks_data_mata/UpdateLoadtableAction/extracted_totals_ZYXW.csv'  # Update this path to your CSV file location\n",
    "df = pd.read_csv(file_path)\n",
    "\n",
    "# Ensure that timestamp is a datetime object for proper sorting\n",
    "df['timestamp'] = pd.to_datetime(df['timestamp'])\n",
    "\n",
    "# Filter rows where all three totals are not null\n",
    "df_filtered = df.dropna(subset=['total_cargo', 'total_eic', 'total_mail'])\n",
    "\n",
    "# Sort by 'timestamp' and 'combined', then drop duplicates keeping the last (most recent) entry for each 'combined'\n",
    "df_latest = df_filtered.sort_values(by='timestamp').drop_duplicates('combined', keep='last')\n",
    "\n",
    "# Save the final DataFrame to a new CSV file\n",
    "output_file_path = '/Users/nikyakovlev/Documents/GitHub/aircraft_load/data_engineering/niks_data_mata/UpdateLoadtableAction/unique_extracted_totals_ZYXW.csv'  # Update this path to where you want to save the new CSV\n",
    "df_latest.to_csv(output_file_path, index=False)\n",
    "\n",
    "# Display the first few rows of the final DataFrame to verify the output\n",
    "print(df_latest.head())\n"
   ]
  }
 ],
 "metadata": {
  "kernelspec": {
   "display_name": ".venv",
   "language": "python",
   "name": "python3"
  },
  "language_info": {
   "name": "python",
   "version": "3.12.3"
  }
 },
 "nbformat": 4,
 "nbformat_minor": 2
}
