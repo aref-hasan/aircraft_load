{
 "cells": [
  {
   "cell_type": "code",
   "execution_count": 14,
   "metadata": {},
   "outputs": [
    {
     "name": "stdout",
     "output_type": "stream",
     "text": [
      "The first 100 entries have been saved to /Users/nikyakovlev/Documents/GitHub/aircraft_load/data_engineering/niks_data_mata/UpdateFuelDataAction_entries_MNOP_100.csv\n"
     ]
    }
   ],
   "source": [
    "import pandas as pd\n",
    "\n",
    "def read_and_save_first_100_entries(input_file_path, output_file_path):\n",
    "    # Read the first 100 entries from the input CSV file\n",
    "    df = pd.read_csv(input_file_path, nrows=1000)\n",
    "    \n",
    "    # Save the first 100 entries to a new CSV file\n",
    "    df.to_csv(output_file_path, index=False)\n",
    "    \n",
    "    print(f\"The first 1000 entries have been saved to {output_file_path}\")\n",
    "\n",
    "# Replace 'your_input_file.csv' and 'your_output_file.csv' with the paths to your CSV files\n",
    "input_file_path = '/Users/nikyakovlev/Documents/GitHub/aircraft_load/data_engineering/niks_data_mata/UpdateFuelDataAction_entries_MNOP.csv'\n",
    "output_file_path = '/Users/nikyakovlev/Documents/GitHub/aircraft_load/data_engineering/niks_data_mata/UpdateFuelDataAction_entries_MNOP_100.csv'\n",
    "\n",
    "read_and_save_first_100_entries(input_file_path, output_file_path)\n"
   ]
  }
 ],
 "metadata": {
  "language_info": {
   "name": "python"
  }
 },
 "nbformat": 4,
 "nbformat_minor": 2
}
