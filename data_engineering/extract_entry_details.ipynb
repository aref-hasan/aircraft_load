{
 "cells": [
  {
   "cell_type": "code",
   "execution_count": 11,
   "metadata": {},
   "outputs": [],
   "source": [
    "# import necessary libraries\n",
    "import pandas as pd\n",
    "import re\n",
    "from airportsdata import load\n",
    "from actions.done.CreateZFWMessageAction import CreateZFWMessageAction\n",
    "from actions.done.UpdateEstimatesAction import UpdateEstimatesAction\n",
    "from actions.done.CalculateWeightAndTrimAction import CalculateWeightAndTrimAction\n",
    "import json\n",
    "\n",
    "def load_config(path):\n",
    "    with open(path, 'r') as file:\n",
    "        return json.load(file)\n",
    "\n",
    "config_path = '../pandas_config.json'\n",
    "config = load_config(config_path)\n",
    "parquet_config = config['parquet']\n",
    "\n",
    "# Setting up the engine as a global constant\n",
    "ENGINE = parquet_config['engine']\n",
    "COMPRESSION = parquet_config['compression']\n",
    "FILE_PATH = \"../data\""
   ]
  },
  {
   "cell_type": "code",
   "execution_count": 12,
   "metadata": {},
   "outputs": [],
   "source": [
    "df = pd.read_parquet(f\"{FILE_PATH}/data_parquet/processed_data_combined.parquet\", engine=ENGINE)"
   ]
  },
  {
   "cell_type": "code",
   "execution_count": 13,
   "metadata": {},
   "outputs": [],
   "source": [
    "ACTIONS = [\"CalculateWeightAndTrimAction\", \"CreateZFWMessageAction\", \"UpdateEstimatesAction\"]\n",
    "df = df[df['action_name'].isin(ACTIONS)]"
   ]
  },
  {
   "cell_type": "code",
   "execution_count": 15,
   "metadata": {},
   "outputs": [
    {
     "ename": "KeyError",
     "evalue": "'flight_id'",
     "output_type": "error",
     "traceback": [
      "\u001b[0;31m---------------------------------------------------------------------------\u001b[0m",
      "\u001b[0;31mKeyError\u001b[0m                                  Traceback (most recent call last)",
      "File \u001b[0;32m~/Documents/GitHub/aircraft_load/.venv/lib/python3.12/site-packages/pandas/core/indexes/base.py:3805\u001b[0m, in \u001b[0;36mIndex.get_loc\u001b[0;34m(self, key)\u001b[0m\n\u001b[1;32m   3804\u001b[0m \u001b[39mtry\u001b[39;00m:\n\u001b[0;32m-> 3805\u001b[0m     \u001b[39mreturn\u001b[39;00m \u001b[39mself\u001b[39;49m\u001b[39m.\u001b[39;49m_engine\u001b[39m.\u001b[39;49mget_loc(casted_key)\n\u001b[1;32m   3806\u001b[0m \u001b[39mexcept\u001b[39;00m \u001b[39mKeyError\u001b[39;00m \u001b[39mas\u001b[39;00m err:\n",
      "File \u001b[0;32mindex.pyx:167\u001b[0m, in \u001b[0;36mpandas._libs.index.IndexEngine.get_loc\u001b[0;34m()\u001b[0m\n",
      "File \u001b[0;32mindex.pyx:196\u001b[0m, in \u001b[0;36mpandas._libs.index.IndexEngine.get_loc\u001b[0;34m()\u001b[0m\n",
      "File \u001b[0;32mpandas/_libs/hashtable_class_helper.pxi:7081\u001b[0m, in \u001b[0;36mpandas._libs.hashtable.PyObjectHashTable.get_item\u001b[0;34m()\u001b[0m\n",
      "File \u001b[0;32mpandas/_libs/hashtable_class_helper.pxi:7089\u001b[0m, in \u001b[0;36mpandas._libs.hashtable.PyObjectHashTable.get_item\u001b[0;34m()\u001b[0m\n",
      "\u001b[0;31mKeyError\u001b[0m: 'flight_id'",
      "\nThe above exception was the direct cause of the following exception:\n",
      "\u001b[0;31mKeyError\u001b[0m                                  Traceback (most recent call last)",
      "\u001b[1;32m/Users/nikyakovlev/Documents/GitHub/aircraft_load/data_engineering/extract_entry_details.ipynb Cell 4\u001b[0m line \u001b[0;36m1\n\u001b[0;32m----> <a href='vscode-notebook-cell:/Users/nikyakovlev/Documents/GitHub/aircraft_load/data_engineering/extract_entry_details.ipynb#W3sZmlsZQ%3D%3D?line=0'>1</a>\u001b[0m flight_ids \u001b[39m=\u001b[39m df[\u001b[39m'\u001b[39;49m\u001b[39mflight_id\u001b[39;49m\u001b[39m'\u001b[39;49m]\u001b[39m.\u001b[39munique()\n",
      "File \u001b[0;32m~/Documents/GitHub/aircraft_load/.venv/lib/python3.12/site-packages/pandas/core/frame.py:4102\u001b[0m, in \u001b[0;36mDataFrame.__getitem__\u001b[0;34m(self, key)\u001b[0m\n\u001b[1;32m   4100\u001b[0m \u001b[39mif\u001b[39;00m \u001b[39mself\u001b[39m\u001b[39m.\u001b[39mcolumns\u001b[39m.\u001b[39mnlevels \u001b[39m>\u001b[39m \u001b[39m1\u001b[39m:\n\u001b[1;32m   4101\u001b[0m     \u001b[39mreturn\u001b[39;00m \u001b[39mself\u001b[39m\u001b[39m.\u001b[39m_getitem_multilevel(key)\n\u001b[0;32m-> 4102\u001b[0m indexer \u001b[39m=\u001b[39m \u001b[39mself\u001b[39;49m\u001b[39m.\u001b[39;49mcolumns\u001b[39m.\u001b[39;49mget_loc(key)\n\u001b[1;32m   4103\u001b[0m \u001b[39mif\u001b[39;00m is_integer(indexer):\n\u001b[1;32m   4104\u001b[0m     indexer \u001b[39m=\u001b[39m [indexer]\n",
      "File \u001b[0;32m~/Documents/GitHub/aircraft_load/.venv/lib/python3.12/site-packages/pandas/core/indexes/base.py:3812\u001b[0m, in \u001b[0;36mIndex.get_loc\u001b[0;34m(self, key)\u001b[0m\n\u001b[1;32m   3807\u001b[0m     \u001b[39mif\u001b[39;00m \u001b[39misinstance\u001b[39m(casted_key, \u001b[39mslice\u001b[39m) \u001b[39mor\u001b[39;00m (\n\u001b[1;32m   3808\u001b[0m         \u001b[39misinstance\u001b[39m(casted_key, abc\u001b[39m.\u001b[39mIterable)\n\u001b[1;32m   3809\u001b[0m         \u001b[39mand\u001b[39;00m \u001b[39many\u001b[39m(\u001b[39misinstance\u001b[39m(x, \u001b[39mslice\u001b[39m) \u001b[39mfor\u001b[39;00m x \u001b[39min\u001b[39;00m casted_key)\n\u001b[1;32m   3810\u001b[0m     ):\n\u001b[1;32m   3811\u001b[0m         \u001b[39mraise\u001b[39;00m InvalidIndexError(key)\n\u001b[0;32m-> 3812\u001b[0m     \u001b[39mraise\u001b[39;00m \u001b[39mKeyError\u001b[39;00m(key) \u001b[39mfrom\u001b[39;00m \u001b[39merr\u001b[39;00m\n\u001b[1;32m   3813\u001b[0m \u001b[39mexcept\u001b[39;00m \u001b[39mTypeError\u001b[39;00m:\n\u001b[1;32m   3814\u001b[0m     \u001b[39m# If we have a listlike key, _check_indexing_error will raise\u001b[39;00m\n\u001b[1;32m   3815\u001b[0m     \u001b[39m#  InvalidIndexError. Otherwise we fall through and re-raise\u001b[39;00m\n\u001b[1;32m   3816\u001b[0m     \u001b[39m#  the TypeError.\u001b[39;00m\n\u001b[1;32m   3817\u001b[0m     \u001b[39mself\u001b[39m\u001b[39m.\u001b[39m_check_indexing_error(key)\n",
      "\u001b[0;31mKeyError\u001b[0m: 'flight_id'"
     ]
    }
   ],
   "source": [
    "flight_ids = df['flight_id'].unique()"
   ]
  },
  {
   "cell_type": "code",
   "execution_count": 10,
   "metadata": {},
   "outputs": [
    {
     "ename": "NameError",
     "evalue": "name 'flight_ids' is not defined",
     "output_type": "error",
     "traceback": [
      "\u001b[0;31m---------------------------------------------------------------------------\u001b[0m",
      "\u001b[0;31mNameError\u001b[0m                                 Traceback (most recent call last)",
      "\u001b[1;32m/Users/nikyakovlev/Documents/GitHub/aircraft_load/data_engineering/extract_entry_details.ipynb Cell 5\u001b[0m line \u001b[0;36m3\n\u001b[1;32m      <a href='vscode-notebook-cell:/Users/nikyakovlev/Documents/GitHub/aircraft_load/data_engineering/extract_entry_details.ipynb#W4sZmlsZQ%3D%3D?line=0'>1</a>\u001b[0m estimated_zfws \u001b[39m=\u001b[39m {}\n\u001b[1;32m      <a href='vscode-notebook-cell:/Users/nikyakovlev/Documents/GitHub/aircraft_load/data_engineering/extract_entry_details.ipynb#W4sZmlsZQ%3D%3D?line=1'>2</a>\u001b[0m actual_zfws \u001b[39m=\u001b[39m {}\n\u001b[0;32m----> <a href='vscode-notebook-cell:/Users/nikyakovlev/Documents/GitHub/aircraft_load/data_engineering/extract_entry_details.ipynb#W4sZmlsZQ%3D%3D?line=2'>3</a>\u001b[0m \u001b[39mfor\u001b[39;00m flight \u001b[39min\u001b[39;00m flight_ids[:\u001b[39m100\u001b[39m]:\n\u001b[1;32m      <a href='vscode-notebook-cell:/Users/nikyakovlev/Documents/GitHub/aircraft_load/data_engineering/extract_entry_details.ipynb#W4sZmlsZQ%3D%3D?line=3'>4</a>\u001b[0m     subset_df \u001b[39m=\u001b[39m df[df[\u001b[39m'\u001b[39m\u001b[39mflight_id\u001b[39m\u001b[39m'\u001b[39m] \u001b[39m==\u001b[39m flight]\n\u001b[1;32m      <a href='vscode-notebook-cell:/Users/nikyakovlev/Documents/GitHub/aircraft_load/data_engineering/extract_entry_details.ipynb#W4sZmlsZQ%3D%3D?line=4'>5</a>\u001b[0m     subset_df\u001b[39m.\u001b[39msort_index(inplace\u001b[39m=\u001b[39m\u001b[39mTrue\u001b[39;00m)\n",
      "\u001b[0;31mNameError\u001b[0m: name 'flight_ids' is not defined"
     ]
    }
   ],
   "source": [
    "estimated_zfws = {}\n",
    "actual_zfws = {}\n",
    "for flight in flight_ids[:100]:\n",
    "    subset_df = df[df['flight_id'] == flight]\n",
    "    subset_df.sort_index(inplace=True)\n",
    "    actions = subset_df['action_name'].values\n",
    "    entriy_details = subset_df[\"entry_details\"].values\n",
    "    temp_estimated_zfws = []\n",
    "    temp_actual_zfws = []\n",
    "    for entry, action in zip(entriy_details, actions):\n",
    "        if action == \"CreateZFWMessageAction\":\n",
    "            estimated_zfw, actual_zfw = CreateZFWMessageAction(entry)\n",
    "            if estimated_zfw != None:\n",
    "                temp_estimated_zfws.append(estimated_zfw)\n",
    "            if actual_zfw != None:\n",
    "                temp_actual_zfws.append(actual_zfw)\n",
    "        if action == \"UpdateEstimatesAction\":\n",
    "            estimated_zfw = UpdateEstimatesAction(entry)\n",
    "            if estimated_zfw != None:\n",
    "                temp_estimated_zfws.append(estimated_zfw)\n",
    "            if actual_zfw != None:\n",
    "                temp_actual_zfws.append(actual_zfw)\n",
    "\n",
    "        if action == \"CalculateWeightAndTrimAction\":\n",
    "            actual_zfw = CalculateWeightAndTrimAction(entry)\n",
    "            if actual_zfw != None:\n",
    "                temp_actual_zfws.append(actual_zfw)\n",
    "    estimated_zfws[flight] = temp_estimated_zfws\n",
    "    actual_zfws[flight] = temp_actual_zfws"
   ]
  },
  {
   "cell_type": "code",
   "execution_count": 6,
   "metadata": {},
   "outputs": [],
   "source": [
    "estimated_zfws_tuples = [(k, v) for k, v in estimated_zfws.items()]\n",
    "actual_zfws_tuples = [(k, v) for k, v in actual_zfws.items()]\n",
    "\n",
    "# Create DataFrame\n",
    "estimated_zfws_df = pd.DataFrame(estimated_zfws_tuples, columns=['flight_number', 'estimated_zfws'])\n",
    "actual_zfws_df = pd.DataFrame(actual_zfws_tuples, columns=['flight_number', 'actual_zfws'])\n",
    "weights = pd.merge(estimated_zfws_df, actual_zfws_df, on='flight_number', how=\"outer\")\n"
   ]
  },
  {
   "cell_type": "code",
   "execution_count": 7,
   "metadata": {},
   "outputs": [],
   "source": [
    "weights.to_parquet(\"../data/data_parquet/weights.parquet\", engine=ENGINE, compression=COMPRESSION)"
   ]
  }
 ],
 "metadata": {
  "kernelspec": {
   "display_name": ".venv",
   "language": "python",
   "name": "python3"
  },
  "language_info": {
   "codemirror_mode": {
    "name": "ipython",
    "version": 3
   },
   "file_extension": ".py",
   "mimetype": "text/x-python",
   "name": "python",
   "nbconvert_exporter": "python",
   "pygments_lexer": "ipython3",
   "version": "3.12.4"
  }
 },
 "nbformat": 4,
 "nbformat_minor": 2
}
