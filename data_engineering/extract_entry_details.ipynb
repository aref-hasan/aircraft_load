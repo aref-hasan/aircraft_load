{
 "cells": [
  {
   "cell_type": "code",
   "execution_count": 49,
   "metadata": {},
   "outputs": [],
   "source": [
    "# import necessary libraries\n",
    "import pandas as pd\n",
    "import re\n",
    "from airportsdata import load\n",
    "from actions.done.CreateZFWMessageAction import CreateZFWMessageAction\n",
    "from actions.done.UpdateEstimatesAction import UpdateEstimatesAction\n",
    "import json\n",
    "\n",
    "def load_config(path):\n",
    "    with open(path, 'r') as file:\n",
    "        return json.load(file)\n",
    "\n",
    "config_path = '../pandas_config.json'\n",
    "config = load_config(config_path)\n",
    "parquet_config = config['parquet']\n",
    "\n",
    "# Setting up the engine as a global constant\n",
    "ENGINE = parquet_config['engine']\n",
    "COMPRESSION = parquet_config['compression']\n",
    "FILE_PATH = \"../data\""
   ]
  },
  {
   "cell_type": "code",
   "execution_count": 50,
   "metadata": {},
   "outputs": [],
   "source": [
    "df = pd.read_parquet(f\"{FILE_PATH}/data_parquet/processed_data_combined.parquet\", engine=ENGINE)"
   ]
  },
  {
   "cell_type": "code",
   "execution_count": 51,
   "metadata": {},
   "outputs": [],
   "source": [
    "df = df[df[\"action_name\"].isin([\"CreateZFWMessageAction\", \"UpdateEstimatesAction\"])]"
   ]
  },
  {
   "cell_type": "code",
   "execution_count": 52,
   "metadata": {},
   "outputs": [],
   "source": [
    "flight_numbers = df['flight_number'].unique()\n",
    "flight_numbers = [flight_number for flight_number in flight_numbers if flight_number != None]"
   ]
  },
  {
   "cell_type": "code",
   "execution_count": 55,
   "metadata": {},
   "outputs": [],
   "source": [
    "estimated_zfws = {}\n",
    "actual_zfws = {}\n",
    "for flight in flight_numbers[:100]:\n",
    "    subset_df = df[df['flight_number'] == flight]\n",
    "    subset_df.sort_index(inplace=True)\n",
    "    actions = subset_df['action_name'].values\n",
    "    entriy_details = subset_df[\"entry_details\"].values\n",
    "    temp_estimated_zfws = []\n",
    "    temp_actual_zfws = []\n",
    "    for entry, action in zip(entriy_details, actions):\n",
    "        if action == \"CreateZFWMessageAction\":\n",
    "            estimated_zfw, actual_zfw = CreateZFWMessageAction(entry)\n",
    "            if estimated_zfw != None:\n",
    "                temp_estimated_zfws.append(estimated_zfw)\n",
    "            if actual_zfw != None:\n",
    "                temp_actual_zfws.append(actual_zfw)\n",
    "        if action == \"UpdateEstimatesAction\":\n",
    "            estimated_zfw = UpdateEstimatesAction(entry)\n",
    "            if estimated_zfw != None:\n",
    "                temp_estimated_zfws.append(estimated_zfw)\n",
    "            if actual_zfw != None:\n",
    "                temp_actual_zfws.append(actual_zfw)\n",
    "    estimated_zfws[flight] = temp_estimated_zfws\n",
    "    actual_zfws[flight] = temp_actual_zfws\n",
    "    #estimated_zfws.append(temp_estimated_zfws)\n",
    "    #actual_zfws.append(temp_actual_zfws)"
   ]
  },
  {
   "cell_type": "code",
   "execution_count": 69,
   "metadata": {},
   "outputs": [],
   "source": [
    "estimated_zfws_tuples = [(k, v) for k, v in estimated_zfws.items()]\n",
    "actual_zfws_tuples = [(k, v) for k, v in actual_zfws.items()]\n",
    "\n",
    "# Create DataFrame\n",
    "estimated_zfws_df = pd.DataFrame(estimated_zfws_tuples, columns=['flight_number', 'estimated_zfws'])\n",
    "actual_zfws_df = pd.DataFrame(actual_zfws_tuples, columns=['flight_number', 'actual_zfws'])\n",
    "weights = pd.merge(estimated_zfws_df, actual_zfws_df, on='flight_number', how=\"outer\")\n"
   ]
  },
  {
   "cell_type": "code",
   "execution_count": 73,
   "metadata": {},
   "outputs": [],
   "source": [
    "weights.to_parquet(\"../data/data_parquet/weights.parquet\", engine=ENGINE, compression=COMPRESSION)"
   ]
  }
 ],
 "metadata": {
  "kernelspec": {
   "display_name": ".venv",
   "language": "python",
   "name": "python3"
  },
  "language_info": {
   "codemirror_mode": {
    "name": "ipython",
    "version": 3
   },
   "file_extension": ".py",
   "mimetype": "text/x-python",
   "name": "python",
   "nbconvert_exporter": "python",
   "pygments_lexer": "ipython3",
   "version": "3.12.4"
  }
 },
 "nbformat": 4,
 "nbformat_minor": 2
}
