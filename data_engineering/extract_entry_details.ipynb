{
 "cells": [
  {
   "cell_type": "code",
   "execution_count": 1,
   "metadata": {},
   "outputs": [],
   "source": [
    "# import necessary libraries\n",
    "import pandas as pd\n",
    "import re\n",
    "from airportsdata import load\n",
    "from actions.done.CreateZFWMessageAction import CreateZFWMessageAction\n",
    "from actions.done.UpdateEstimatesAction import UpdateEstimatesAction\n",
    "from actions.done.CalculateWeightAndTrimAction import CalculateWeightAndTrimAction\n",
    "from actions.done.CreateLoadsheetAction import CreateLoadsheetAction\n",
    "import json\n",
    "import os\n",
    "import concurrent.futures\n",
    "import time\n",
    "\n",
    "def load_config(path):\n",
    "    with open(path, 'r') as file:\n",
    "        return json.load(file)\n",
    "\n",
    "config_path = '../pandas_config.json'\n",
    "config = load_config(config_path)\n",
    "parquet_config = config['parquet']\n",
    "\n",
    "# Setting up the engine as a global constant\n",
    "ENGINE = parquet_config['engine']\n",
    "COMPRESSION = parquet_config['compression']\n",
    "FILE_PATH = \"../data\""
   ]
  },
  {
   "cell_type": "code",
   "execution_count": 2,
   "metadata": {},
   "outputs": [],
   "source": [
    "df = pd.read_parquet(f\"{FILE_PATH}/data_parquet/processed_data_combined.parquet\", engine=ENGINE)"
   ]
  },
  {
   "cell_type": "code",
   "execution_count": 32,
   "metadata": {},
   "outputs": [],
   "source": [
    "KEEP_COLUMNS = [\"flight_id\", \"action_name\",\"entry_details\"]\n",
    "df = df[KEEP_COLUMNS]"
   ]
  },
  {
   "cell_type": "code",
   "execution_count": 34,
   "metadata": {},
   "outputs": [],
   "source": [
    "os.listdir(f\"actions/done\")\n",
    "ACTIONS = [action.replace(\".py\", \"\") for action in os.listdir(f\"actions/done\") if action.endswith(\".py\")]\n",
    "df = df[df['action_name'].isin(ACTIONS)]"
   ]
  },
  {
   "cell_type": "code",
   "execution_count": 35,
   "metadata": {},
   "outputs": [],
   "source": [
    "flight_ids = df['flight_id'].unique()\n",
    "# Set flight_id as index for faster access\n",
    "df.set_index('flight_id', inplace=True)"
   ]
  },
  {
   "cell_type": "code",
   "execution_count": 38,
   "metadata": {},
   "outputs": [
    {
     "name": "stdout",
     "output_type": "stream",
     "text": [
      "2.1750781536102295\n"
     ]
    }
   ],
   "source": [
    "def process_flight(flight, df):\n",
    "    subset_df = df.loc[flight]\n",
    "    subset_df.sort_index(inplace=True)\n",
    "    actions = subset_df['action_name'].values\n",
    "    entry_details = subset_df[\"entry_details\"].values\n",
    "    temp_estimated_zfws = []\n",
    "    temp_actual_zfws = []\n",
    "    temp_actual_fuels = []\n",
    "    temp_actual_tows = []\n",
    "    \n",
    "    for entry, action in zip(entry_details, actions):\n",
    "        if action == \"CreateZFWMessageAction\":\n",
    "            estimated_zfw, actual_zfw = CreateZFWMessageAction(entry)\n",
    "            if estimated_zfw is not None:\n",
    "                temp_estimated_zfws.append(estimated_zfw)\n",
    "            if actual_zfw is not None:\n",
    "                temp_actual_zfws.append(actual_zfw)\n",
    "        elif action == \"UpdateEstimatesAction\":\n",
    "            estimated_zfw = UpdateEstimatesAction(entry)\n",
    "            if estimated_zfw is not None:\n",
    "                temp_estimated_zfws.append(estimated_zfw)\n",
    "            if actual_zfw is not None:\n",
    "                temp_actual_zfws.append(actual_zfw)\n",
    "        elif action == \"CalculateWeightAndTrimAction\":\n",
    "            actual_zfw = CalculateWeightAndTrimAction(entry)\n",
    "            if actual_zfw is not None:\n",
    "                temp_actual_zfws.append(actual_zfw)\n",
    "        elif action == \"CreateLoadsheetAction\":\n",
    "            actual_tow, actual_zfw, estimated_zfw, actual_fuel = CreateLoadsheetAction(entry)\n",
    "            if actual_zfw is not None:\n",
    "                temp_actual_zfws.append(actual_zfw)\n",
    "            if estimated_zfw is not None:\n",
    "                temp_estimated_zfws.append(estimated_zfw)\n",
    "            if actual_fuel is not None:\n",
    "                temp_actual_fuels.append(actual_fuel)\n",
    "            if actual_tow is not None:\n",
    "                temp_actual_tows.append(actual_tow)\n",
    "    \n",
    "    return flight, temp_estimated_zfws, temp_actual_zfws, temp_actual_fuels, temp_actual_tows\n",
    "\n",
    "def collect_results(result):\n",
    "    flight, temp_estimated_zfws, temp_actual_zfws, temp_actual_fuels, temp_actual_tows = result\n",
    "    estimated_zfws[flight] = temp_estimated_zfws\n",
    "    actual_zfws[flight] = temp_actual_zfws\n",
    "    actual_take_off_fuels[flight] = temp_actual_fuels\n",
    "    actual_tows[flight] = temp_actual_tows\n",
    "\n",
    "start = time.time()\n",
    "estimated_zfws = {}\n",
    "actual_zfws = {}\n",
    "actual_take_off_fuels = {}\n",
    "actual_tows = {}\n",
    "\n",
    "with concurrent.futures.ThreadPoolExecutor(max_workers=10) as executor:\n",
    "    futures = [executor.submit(process_flight, flight, df) for flight in flight_ids[:300]]\n",
    "    for future in concurrent.futures.as_completed(futures):\n",
    "        collect_results(future.result())\n",
    "\n",
    "end = time.time()\n",
    "print(end - start)\n"
   ]
  },
  {
   "cell_type": "code",
   "execution_count": 14,
   "metadata": {},
   "outputs": [
    {
     "data": {
      "text/plain": [
       "14447"
      ]
     },
     "execution_count": 14,
     "metadata": {},
     "output_type": "execute_result"
    }
   ],
   "source": [
    "len(flight_ids)"
   ]
  },
  {
   "cell_type": "code",
   "execution_count": 140,
   "metadata": {},
   "outputs": [],
   "source": [
    "estimated_zfws_tuples = [(k, v) for k, v in estimated_zfws.items()]\n",
    "actual_zfws_tuples = [(k, v) for k, v in actual_zfws.items()]\n",
    "\n",
    "# Create DataFrame\n",
    "estimated_zfws_df = pd.DataFrame(estimated_zfws_tuples, columns=['flight_number', 'estimated_zfws'])\n",
    "actual_zfws_df = pd.DataFrame(actual_zfws_tuples, columns=['flight_number', 'actual_zfws'])\n",
    "weights = pd.merge(estimated_zfws_df, actual_zfws_df, on='flight_number', how=\"outer\")\n"
   ]
  },
  {
   "cell_type": "code",
   "execution_count": 7,
   "metadata": {},
   "outputs": [],
   "source": [
    "weights.to_parquet(\"../data/data_parquet/weights.parquet\", engine=ENGINE, compression=COMPRESSION)"
   ]
  }
 ],
 "metadata": {
  "kernelspec": {
   "display_name": ".venv",
   "language": "python",
   "name": "python3"
  },
  "language_info": {
   "codemirror_mode": {
    "name": "ipython",
    "version": 3
   },
   "file_extension": ".py",
   "mimetype": "text/x-python",
   "name": "python",
   "nbconvert_exporter": "python",
   "pygments_lexer": "ipython3",
   "version": "3.12.4"
  }
 },
 "nbformat": 4,
 "nbformat_minor": 2
}
