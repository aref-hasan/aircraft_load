{
 "cells": [
  {
   "cell_type": "code",
   "execution_count": 114,
   "metadata": {},
   "outputs": [],
   "source": [
    "# import necessary libraries\n",
    "import pandas as pd\n",
    "import re\n",
    "from airportsdata import load\n",
    "from actions.done.CreateZFWMessageAction import CreateZFWMessageAction\n",
    "from actions.done.UpdateEstimatesAction import UpdateEstimatesAction\n",
    "from actions.done.CalculateWeightAndTrimAction import CalculateWeightAndTrimAction\n",
    "from actions.done.CreateLoadsheetAction import CreateLoadsheetAction\n",
    "from actions.done.UpdateFuelDataAction import UpdateFuelDataAction\n",
    "import json\n",
    "import os\n",
    "import concurrent.futures\n",
    "import time"
   ]
  },
  {
   "cell_type": "code",
   "execution_count": 115,
   "metadata": {},
   "outputs": [],
   "source": [
    "def load_config(path):\n",
    "    with open(path, 'r') as file:\n",
    "        return json.load(file)\n",
    "\n",
    "config_path = '../pandas_config.json'\n",
    "config = load_config(config_path)\n",
    "parquet_config = config['parquet']\n",
    "\n",
    "# Setting up the engine as a global constant\n",
    "ENGINE = parquet_config['engine']\n",
    "COMPRESSION = parquet_config['compression']\n",
    "FILE_PATH = \"../data\""
   ]
  },
  {
   "cell_type": "code",
   "execution_count": 116,
   "metadata": {},
   "outputs": [],
   "source": [
    "df = pd.read_parquet(f\"{FILE_PATH}/data_parquet/processed_data_combined.parquet\", engine=ENGINE)"
   ]
  },
  {
   "cell_type": "code",
   "execution_count": 117,
   "metadata": {},
   "outputs": [],
   "source": [
    "df.reset_index(inplace=True)"
   ]
  },
  {
   "cell_type": "code",
   "execution_count": 118,
   "metadata": {},
   "outputs": [],
   "source": [
    "KEEP_COLUMNS = [\"flight_id\", \"action_name\",\"entry_details\", \"index\"]\n",
    "df = df[KEEP_COLUMNS]"
   ]
  },
  {
   "cell_type": "code",
   "execution_count": 119,
   "metadata": {},
   "outputs": [],
   "source": [
    "df.rename(columns={\"index\": \"row_id\"}, inplace=True)"
   ]
  },
  {
   "cell_type": "code",
   "execution_count": 120,
   "metadata": {},
   "outputs": [],
   "source": [
    "os.listdir(f\"actions/done\")\n",
    "ACTIONS = [action.replace(\".py\", \"\") for action in os.listdir(f\"actions/done\") if action.endswith(\".py\")]\n",
    "df = df[df['action_name'].isin(ACTIONS)]"
   ]
  },
  {
   "cell_type": "code",
   "execution_count": 121,
   "metadata": {},
   "outputs": [],
   "source": [
    "flight_ids = df['flight_id'].unique()\n",
    "# Set flight_id as index for faster access\n",
    "df.set_index('flight_id', inplace=True)"
   ]
  },
  {
   "cell_type": "code",
   "execution_count": 122,
   "metadata": {},
   "outputs": [
    {
     "name": "stdout",
     "output_type": "stream",
     "text": [
      "7.025030851364136\n"
     ]
    }
   ],
   "source": [
    "def process_flight(flight, df):\n",
    "    subset_df = df.loc[flight].copy()\n",
    "    subset_df.sort_values(inplace=True, by=\"row_id\", ascending=True)\n",
    "    actions = subset_df['action_name'].values\n",
    "    entry_details = subset_df[\"entry_details\"].values\n",
    "    temp_estimated_zfws = []\n",
    "    temp_actual_zfws = []\n",
    "    temp_actual_fuels = []\n",
    "    temp_actual_tows = []\n",
    "    \n",
    "    for entry, action in zip(entry_details, actions):\n",
    "        if action == \"CreateZFWMessageAction\":\n",
    "            estimated_zfw, actual_zfw = CreateZFWMessageAction(entry)\n",
    "            if estimated_zfw is not None:\n",
    "                try:\n",
    "                    if estimated_zfw != temp_estimated_zfws[-1]:\n",
    "                        temp_estimated_zfws.append(estimated_zfw)\n",
    "                except IndexError:\n",
    "                    temp_estimated_zfws.append(estimated_zfw)\n",
    "            if actual_zfw is not None:\n",
    "                try:\n",
    "                    if actual_zfw != temp_actual_zfws[-1]:\n",
    "                        temp_actual_zfws.append(actual_zfw)\n",
    "                except IndexError:\n",
    "                    temp_actual_zfws.append(actual_zfw)\n",
    "        elif action == \"UpdateEstimatesAction\":\n",
    "            estimated_zfw = UpdateEstimatesAction(entry)\n",
    "            if estimated_zfw is not None:\n",
    "                try:\n",
    "                    if estimated_zfw != temp_estimated_zfws[-1]:\n",
    "                        temp_estimated_zfws.append(estimated_zfw)\n",
    "                except IndexError:\n",
    "                    temp_estimated_zfws.append(estimated_zfw)\n",
    "            if actual_zfw is not None:\n",
    "                try:\n",
    "                    if actual_zfw != temp_actual_zfws[-1]:\n",
    "                        temp_actual_zfws.append(actual_zfw)\n",
    "                except IndexError:\n",
    "                    temp_actual_zfws.append(actual_zfw)\n",
    "        elif action == \"CalculateWeightAndTrimAction\":\n",
    "            actual_zfw = CalculateWeightAndTrimAction(entry)\n",
    "            if actual_zfw is not None:\n",
    "                try:\n",
    "                    if actual_zfw != temp_actual_zfws[-1]:\n",
    "                        temp_actual_zfws.append(actual_zfw)\n",
    "                except IndexError:\n",
    "                    temp_actual_zfws.append(actual_zfw)\n",
    "        elif action == \"CreateLoadsheetAction\":\n",
    "            actual_tow, actual_zfw, estimated_zfw, actual_fuel = CreateLoadsheetAction(entry)\n",
    "            if actual_zfw is not None:\n",
    "                try:\n",
    "                    if actual_zfw != temp_actual_zfws[-1]:\n",
    "                        temp_actual_zfws.append(actual_zfw)\n",
    "                except IndexError:\n",
    "                    temp_actual_zfws.append(actual_zfw)\n",
    "            if estimated_zfw is not None:\n",
    "                try:\n",
    "                    if estimated_zfw != temp_estimated_zfws[-1]:\n",
    "                        temp_estimated_zfws.append(estimated_zfw)\n",
    "                except IndexError:\n",
    "                    temp_estimated_zfws.append(estimated_zfw)\n",
    "            if actual_fuel is not None:\n",
    "                try: \n",
    "                    if actual_fuel != temp_actual_fuels[-1]:\n",
    "                        temp_actual_fuels.append(actual_fuel)\n",
    "                except IndexError:\n",
    "                    temp_actual_fuels.append(actual_fuel)\n",
    "            if actual_tow is not None:\n",
    "                try:\n",
    "                    if actual_tow != temp_actual_tows[-1]:\n",
    "                        temp_actual_tows.append(actual_tow)\n",
    "                except IndexError:\n",
    "                    temp_actual_tows.append(actual_tow)\n",
    "        elif action == \"UpdateFuelDataAction\":\n",
    "            actual_fuel = UpdateFuelDataAction(entry)\n",
    "            if actual_fuel is not None:\n",
    "                try: \n",
    "                    if actual_fuel != temp_actual_fuels[-1]:\n",
    "                        temp_actual_fuels.append(actual_fuel)\n",
    "                except IndexError:\n",
    "                    temp_actual_fuels.append(actual_fuel)\n",
    "    \n",
    "    return flight, temp_estimated_zfws, temp_actual_zfws, temp_actual_fuels, temp_actual_tows\n",
    "\n",
    "def collect_results(result):\n",
    "    flight, temp_estimated_zfws, temp_actual_zfws, temp_actual_fuels, temp_actual_tows = result\n",
    "    estimated_zfws[flight] = temp_estimated_zfws\n",
    "    actual_zfws[flight] = temp_actual_zfws\n",
    "    actual_take_off_fuels[flight] = temp_actual_fuels\n",
    "    actual_tows[flight] = temp_actual_tows\n",
    "\n",
    "start = time.time()\n",
    "estimated_zfws = {}\n",
    "actual_zfws = {}\n",
    "actual_take_off_fuels = {}\n",
    "actual_tows = {}\n",
    "\n",
    "with concurrent.futures.ThreadPoolExecutor() as executor:\n",
    "    futures = [executor.submit(process_flight, flight, df) for flight in flight_ids[:1000]]\n",
    "    for future in concurrent.futures.as_completed(futures):\n",
    "        collect_results(future.result())\n",
    "\n",
    "end = time.time()\n",
    "print(end - start)\n"
   ]
  },
  {
   "cell_type": "code",
   "execution_count": 78,
   "metadata": {},
   "outputs": [
    {
     "data": {
      "text/plain": [
       "14447"
      ]
     },
     "execution_count": 78,
     "metadata": {},
     "output_type": "execute_result"
    }
   ],
   "source": [
    "len(flight_ids)"
   ]
  },
  {
   "cell_type": "code",
   "execution_count": 123,
   "metadata": {},
   "outputs": [],
   "source": [
    "estimated_zfws_tuples = [(k, v) for k, v in estimated_zfws.items()]\n",
    "actual_zfws_tuples = [(k, v) for k, v in actual_zfws.items()]\n",
    "actual_take_off_fuels_tuples = [(k, v) for k, v in actual_take_off_fuels.items()]\n",
    "# Create DataFrame\n",
    "estimated_zfws_df = pd.DataFrame(estimated_zfws_tuples, columns=['flight_number', 'estimated_zfws'])\n",
    "actual_zfws_df = pd.DataFrame(actual_zfws_tuples, columns=['flight_number', 'actual_zfws'])\n",
    "actual_take_off_fuels_df = pd.DataFrame(actual_take_off_fuels_tuples, columns=['flight_number', 'actual_take_off_fuels'])\n",
    "weights = pd.merge(estimated_zfws_df, actual_zfws_df, on='flight_number', how=\"outer\")\n",
    "weights = pd.merge(weights, actual_take_off_fuels_df, on='flight_number', how=\"outer\")\n"
   ]
  },
  {
   "cell_type": "code",
   "execution_count": 124,
   "metadata": {},
   "outputs": [
    {
     "data": {
      "text/html": [
       "<div>\n",
       "<style scoped>\n",
       "    .dataframe tbody tr th:only-of-type {\n",
       "        vertical-align: middle;\n",
       "    }\n",
       "\n",
       "    .dataframe tbody tr th {\n",
       "        vertical-align: top;\n",
       "    }\n",
       "\n",
       "    .dataframe thead th {\n",
       "        text-align: right;\n",
       "    }\n",
       "</style>\n",
       "<table border=\"1\" class=\"dataframe\">\n",
       "  <thead>\n",
       "    <tr style=\"text-align: right;\">\n",
       "      <th></th>\n",
       "      <th>flight_number</th>\n",
       "      <th>estimated_zfws</th>\n",
       "      <th>actual_zfws</th>\n",
       "      <th>actual_take_off_fuels</th>\n",
       "    </tr>\n",
       "  </thead>\n",
       "  <tbody>\n",
       "    <tr>\n",
       "      <th>0</th>\n",
       "      <td>MN-1030-2024-1-4</td>\n",
       "      <td>[]</td>\n",
       "      <td>[145679, 127355, 145679]</td>\n",
       "      <td>[]</td>\n",
       "    </tr>\n",
       "    <tr>\n",
       "      <th>1</th>\n",
       "      <td>MN-1030-2024-1-5</td>\n",
       "      <td>[145679]</td>\n",
       "      <td>[145679, 148197, 145779, 149631, 146181, 14685...</td>\n",
       "      <td>[48715, 51625]</td>\n",
       "    </tr>\n",
       "    <tr>\n",
       "      <th>2</th>\n",
       "      <td>MN-1030-2024-3-5</td>\n",
       "      <td>[142264, 145589]</td>\n",
       "      <td>[127355, 142189, 127355, 142264, 142364, 14243...</td>\n",
       "      <td>[47099, 49625]</td>\n",
       "    </tr>\n",
       "    <tr>\n",
       "      <th>3</th>\n",
       "      <td>MN-1030-2024-5-5</td>\n",
       "      <td>[145051, 149018]</td>\n",
       "      <td>[127355, 145051, 127355, 145051, 145151, 14819...</td>\n",
       "      <td>[4751030, 49125]</td>\n",
       "    </tr>\n",
       "    <tr>\n",
       "      <th>4</th>\n",
       "      <td>MN-1030-2024-8-5</td>\n",
       "      <td>[]</td>\n",
       "      <td>[127386]</td>\n",
       "      <td>[]</td>\n",
       "    </tr>\n",
       "    <tr>\n",
       "      <th>...</th>\n",
       "      <td>...</td>\n",
       "      <td>...</td>\n",
       "      <td>...</td>\n",
       "      <td>...</td>\n",
       "    </tr>\n",
       "    <tr>\n",
       "      <th>995</th>\n",
       "      <td>MN-4250-2024-30-4</td>\n",
       "      <td>[]</td>\n",
       "      <td>[49298, 48999, 49116, 48999, 49560, 49298, 489...</td>\n",
       "      <td>[]</td>\n",
       "    </tr>\n",
       "    <tr>\n",
       "      <th>996</th>\n",
       "      <td>MN-4250-2024-4-5</td>\n",
       "      <td>[57474]</td>\n",
       "      <td>[56287, 56352, 56287, 56339, 56287, 56339, 562...</td>\n",
       "      <td>[7215, 7758]</td>\n",
       "    </tr>\n",
       "    <tr>\n",
       "      <th>997</th>\n",
       "      <td>MN-4250-2024-5-5</td>\n",
       "      <td>[51158]</td>\n",
       "      <td>[50842, 50549, 50458, 50842, 50666, 50458, 505...</td>\n",
       "      <td>[6964, 7287]</td>\n",
       "    </tr>\n",
       "    <tr>\n",
       "      <th>998</th>\n",
       "      <td>MN-9888-2024-30-4</td>\n",
       "      <td>[]</td>\n",
       "      <td>[44617]</td>\n",
       "      <td>[]</td>\n",
       "    </tr>\n",
       "    <tr>\n",
       "      <th>999</th>\n",
       "      <td>MN-9888-2024-30-5</td>\n",
       "      <td>[43626, 52094, 53039]</td>\n",
       "      <td>[43626, 52426, 43626, 52426, 53512, 53771, 524...</td>\n",
       "      <td>[9000]</td>\n",
       "    </tr>\n",
       "  </tbody>\n",
       "</table>\n",
       "<p>1000 rows × 4 columns</p>\n",
       "</div>"
      ],
      "text/plain": [
       "         flight_number         estimated_zfws  \\\n",
       "0     MN-1030-2024-1-4                     []   \n",
       "1     MN-1030-2024-1-5               [145679]   \n",
       "2     MN-1030-2024-3-5       [142264, 145589]   \n",
       "3     MN-1030-2024-5-5       [145051, 149018]   \n",
       "4     MN-1030-2024-8-5                     []   \n",
       "..                 ...                    ...   \n",
       "995  MN-4250-2024-30-4                     []   \n",
       "996   MN-4250-2024-4-5                [57474]   \n",
       "997   MN-4250-2024-5-5                [51158]   \n",
       "998  MN-9888-2024-30-4                     []   \n",
       "999  MN-9888-2024-30-5  [43626, 52094, 53039]   \n",
       "\n",
       "                                           actual_zfws actual_take_off_fuels  \n",
       "0                             [145679, 127355, 145679]                    []  \n",
       "1    [145679, 148197, 145779, 149631, 146181, 14685...        [48715, 51625]  \n",
       "2    [127355, 142189, 127355, 142264, 142364, 14243...        [47099, 49625]  \n",
       "3    [127355, 145051, 127355, 145051, 145151, 14819...      [4751030, 49125]  \n",
       "4                                             [127386]                    []  \n",
       "..                                                 ...                   ...  \n",
       "995  [49298, 48999, 49116, 48999, 49560, 49298, 489...                    []  \n",
       "996  [56287, 56352, 56287, 56339, 56287, 56339, 562...          [7215, 7758]  \n",
       "997  [50842, 50549, 50458, 50842, 50666, 50458, 505...          [6964, 7287]  \n",
       "998                                            [44617]                    []  \n",
       "999  [43626, 52426, 43626, 52426, 53512, 53771, 524...                [9000]  \n",
       "\n",
       "[1000 rows x 4 columns]"
      ]
     },
     "execution_count": 124,
     "metadata": {},
     "output_type": "execute_result"
    }
   ],
   "source": [
    "weights"
   ]
  },
  {
   "cell_type": "code",
   "execution_count": 93,
   "metadata": {},
   "outputs": [],
   "source": [
    "weights.to_parquet(\"../data/data_parquet/weights.parquet\", engine=ENGINE, compression=COMPRESSION)"
   ]
  }
 ],
 "metadata": {
  "kernelspec": {
   "display_name": ".venv",
   "language": "python",
   "name": "python3"
  },
  "language_info": {
   "codemirror_mode": {
    "name": "ipython",
    "version": 3
   },
   "file_extension": ".py",
   "mimetype": "text/x-python",
   "name": "python",
   "nbconvert_exporter": "python",
   "pygments_lexer": "ipython3",
   "version": "3.12.0"
  }
 },
 "nbformat": 4,
 "nbformat_minor": 2
}
