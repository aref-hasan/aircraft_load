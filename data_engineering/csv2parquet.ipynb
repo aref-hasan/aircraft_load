{
 "cells": [
  {
   "cell_type": "code",
   "execution_count": 11,
   "metadata": {},
   "outputs": [],
   "source": [
    "# import necessary libraries\n",
    "import pandas as pd\n",
    "import json"
   ]
  },
  {
   "cell_type": "code",
   "execution_count": null,
   "metadata": {},
   "outputs": [],
   "source": [
    "def load_config(path):\n",
    "    with open(path, 'r') as file:\n",
    "        return json.load(file)\n",
    "\n",
    "config_path = '../pandas_config.json'\n",
    "config = load_config(config_path)\n",
    "parquet_config = config['parquet']\n",
    "\n",
    "# setting up the engine as a global constant\n",
    "ENGINE = parquet_config['engine']\n",
    "COMPRESSION = parquet_config['compression']\n",
    "FILE_PATH = \"../data\""
   ]
  },
  {
   "cell_type": "code",
   "execution_count": 12,
   "metadata": {},
   "outputs": [],
   "source": [
    "file1 = FILE_PATH + \"/asia_data.csv\"\n",
    "file2 = FILE_PATH + \"/europe_data.csv\"\n",
    "file3 = FILE_PATH + \"/america_data.csv\"\n",
    "parquet_file1 = FILE_PATH + \"/data_parquet/asia_data.parquet\"\n",
    "parquet_file2 = FILE_PATH + \"/data_parquet/europe_data.parquet\"\n",
    "parquet_file3 = FILE_PATH + \"/data_parquet/america_data.parquet\""
   ]
  },
  {
   "cell_type": "code",
   "execution_count": 13,
   "metadata": {},
   "outputs": [],
   "source": [
    "df = pd.read_csv(file1, on_bad_lines='skip')\n",
    "df.to_parquet(parquet_file1, engine=ENGINE, compression=COMPRESSION)\n",
    "\n",
    "df = pd.read_csv(file2, on_bad_lines='skip')\n",
    "df.to_parquet(parquet_file2, engine=ENGINE, compression=COMPRESSION)\n",
    "\n",
    "df = pd.read_csv(file3, on_bad_lines='skip')\n",
    "df.to_parquet(parquet_file3, engine=ENGINE, compression=COMPRESSION)"
   ]
  },
  {
   "cell_type": "code",
   "execution_count": 16,
   "metadata": {},
   "outputs": [],
   "source": [
    "df = pd.read_parquet(FILE_PATH + \"/data_parquet/europe_data.parquet\").head(1000)\n",
    "df.to_csv(FILE_PATH + \"/data_samples/europe_data_1000.csv\")"
   ]
  }
 ],
 "metadata": {
  "kernelspec": {
   "display_name": ".venv",
   "language": "python",
   "name": "python3"
  },
  "language_info": {
   "codemirror_mode": {
    "name": "ipython",
    "version": 3
   },
   "file_extension": ".py",
   "mimetype": "text/x-python",
   "name": "python",
   "nbconvert_exporter": "python",
   "pygments_lexer": "ipython3",
   "version": "3.12.4"
  }
 },
 "nbformat": 4,
 "nbformat_minor": 2
}
