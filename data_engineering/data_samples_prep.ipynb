{
 "cells": [
  {
   "cell_type": "code",
   "execution_count": null,
   "metadata": {},
   "outputs": [],
   "source": [
    "# import necessary libraries\n",
    "import pandas as pd\n",
    "import re"
   ]
  },
  {
   "cell_type": "markdown",
   "metadata": {},
   "source": [
    "### europe_data_1000.csv"
   ]
  },
  {
   "cell_type": "code",
   "execution_count": null,
   "metadata": {},
   "outputs": [],
   "source": [
    "df = pd.read_parquet(\"data/data_parquet/europe_data.parquet\").head(1000)\n",
    "df.to_csv(\"data/data_samples/europe_data_1000.csv\")"
   ]
  },
  {
   "cell_type": "markdown",
   "metadata": {},
   "source": [
    "### actions.csv"
   ]
  },
  {
   "cell_type": "code",
   "execution_count": null,
   "metadata": {},
   "outputs": [],
   "source": [
    "#europe = pd.read_parquet('data/europe_data.parquet')\n",
    "#asia = pd.read_parquet('data/asia_data.parquet')\n",
    "#america = pd.read_parquet('data/america_data.parquet')\n",
    "data = pd.read_parquet('data/data_parquet/processed_data_combined.parquet')\n",
    "actions = pd.read_excel('data/Liste_der_Actions.xlsx')\n",
    "action_names = actions[\"Action Name\"].values"
   ]
  },
  {
   "cell_type": "code",
   "execution_count": null,
   "metadata": {},
   "outputs": [],
   "source": [
    "filtered_df = None\n",
    "counter = 0\n",
    "for action in action_names:\n",
    "    tempdf = None\n",
    "    for status in [\"Received\", \"Saved\", \"Sent\"]:\n",
    "        if (action == action_names[0]) & (status ==\"Received\"):\n",
    "            tempDF = data[data[\"action_name\"] == action]\n",
    "            tempDF = tempDF[tempDF[\"action_mode\"] == status]\n",
    "            filtered_df = tempDF.head(10)\n",
    "        else:\n",
    "            actiondf = data[data[\"action_name\"] == action]\n",
    "            actiondf = actiondf[actiondf[\"action_mode\"] == status]\n",
    "            actiondf = actiondf.head(10)\n",
    "            filtered_df = pd.concat([filtered_df, actiondf])\n",
    "            \n",
    "filtered_df.to_csv('data/actions.csv')"
   ]
  },
  {
   "cell_type": "markdown",
   "metadata": {},
   "source": [
    "### (continent)_5_flights.csv"
   ]
  },
  {
   "cell_type": "code",
   "execution_count": null,
   "metadata": {},
   "outputs": [],
   "source": [
    "continents = [\"europe\", \"america\", \"asia\"]\n",
    "for continent in continents:\n",
    "    df = pd.read_parquet(f\"data/data_parquet/{continent}_data.parquet\")\n",
    "    flight_numbers = df[\"flight_number\"].values\n",
    "    subset_flight_numbers = flight_numbers[:5]\n",
    "    five_flights = df[df[\"flight_number\"].isin(subset_flight_numbers)]\n",
    "    five_flights.to_csv(f\"data/data_samples/{continent}_5_flights.csv\")"
   ]
  }
 ],
 "metadata": {
  "language_info": {
   "name": "python"
  }
 },
 "nbformat": 4,
 "nbformat_minor": 2
}
