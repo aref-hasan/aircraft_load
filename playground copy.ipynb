{
 "cells": [
  {
   "cell_type": "code",
   "execution_count": 2,
   "metadata": {},
   "outputs": [],
   "source": [
    "import pandas as pd\n",
    "import json\n",
    "def load_config(path):\n",
    "    with open(path, 'r') as file:\n",
    "        return json.load(file)\n",
    "\n",
    "config_path = './pandas_config.json'\n",
    "config = load_config(config_path)\n",
    "parquet_config = config['parquet']\n",
    "\n",
    "# Setting up the engine as a global constant\n",
    "ENGINE = parquet_config['engine']\n",
    "COMPRESSION = parquet_config['compression']\n",
    "FILE_PATH = \"./data/data_parquet\"\n",
    "CONTINENTS = [\"asia\", \"america\", \"europe\"]"
   ]
  },
  {
   "cell_type": "code",
   "execution_count": 3,
   "metadata": {},
   "outputs": [],
   "source": [
    "df = pd.read_parquet(FILE_PATH + \"/processed_data_combined.parquet\", engine=ENGINE)\n"
   ]
  },
  {
   "cell_type": "code",
   "execution_count": 4,
   "metadata": {},
   "outputs": [],
   "source": [
    "filtered_actions = df[df['action_name']  == ('UpdateEstimatesAction' or\"CreateZFWMessageAction\")]"
   ]
  },
  {
   "cell_type": "code",
   "execution_count": 5,
   "metadata": {},
   "outputs": [],
   "source": [
    "flight_numbers = filtered_actions[\"flight_number\"].values\n",
    "values = filtered_actions[\"entry_details\"].values\n",
    "action_names = filtered_actions[\"action_name\"].values"
   ]
  },
  {
   "cell_type": "code",
   "execution_count": 6,
   "metadata": {},
   "outputs": [],
   "source": [
    "import re\n",
    "def CreateZFWMessageAction(dictionary, string, flight):\n",
    "    pattern = r\"^ZFW (\\d+) KG\"\n",
    "\n",
    "    # Using list comprehension to extract digits from matching patterns\n",
    "    estimated_zfw = re.match(pattern, string).group(1)\n",
    "    pattern = r\"<actualZFW>\\s*(\\d+)\\s*</actualZFW>\"\n",
    "    actual_zfw = re.search(pattern, string).group(1)\n",
    "\n",
    "    if flight in list(dictionary.keys()):\n",
    "        dictionary[flight] = {\"estimated_zfw\": [estimated_zfw], \"actual_zfw\": [actual_zfw]}\n",
    "    else:\n",
    "        dictionary[flight][\"estimated_zfw\"].append(estimated_zfw)\n",
    "        dictionary[flight][\"actual_zfw\"].append(actual_zfw)\n",
    "    return dictionary\n",
    "\n",
    "def UpdateEstimatesAction(dictionary, string, flight):\n",
    "    # Updated pattern to better handle numbers with and without decimal points\n",
    "    pattern = r\"EZFW\\s*:\\s*(\\d+(?:\\.\\d*)?)\\s*KG\"\n",
    "\n",
    "    match = re.search(pattern, string)\n",
    "    if match:\n",
    "        estimate_zfw = int(float(match.group(1)))\n",
    "        if flight in list(dictionary.keys()):\n",
    "            dictionary[flight][\"estimated_zfw\"].append(estimate_zfw)\n",
    "        else:\n",
    "            dictionary[flight] = {\"estimated_zfw\": [estimate_zfw]}        \n",
    "    return dictionary\n",
    "\n"
   ]
  },
  {
   "cell_type": "code",
   "execution_count": 7,
   "metadata": {},
   "outputs": [],
   "source": [
    "global final \n",
    "final = {}\n",
    "for flight in flight_numbers:\n",
    "    subset_df = filtered_actions[filtered_actions[\"flight_number\"] == flight]\n",
    "    values = subset_df[\"entry_details\"].values\n",
    "    action_names = subset_df[\"action_name\"].values\n",
    "    for value, action_name in zip(values, action_names):\n",
    "        if action_name == \"CreateZFWMessageAction\":\n",
    "            returns = CreateZFWMessageAction(final,value, flight)\n",
    "            final = returns\n",
    "        else:\n",
    "            returns = UpdateEstimatesAction(final, value, flight)\n",
    "            final = returns"
   ]
  },
  {
   "cell_type": "code",
   "execution_count": 22,
   "metadata": {},
   "outputs": [
    {
     "data": {
      "text/html": [
       "<div>\n",
       "<style scoped>\n",
       "    .dataframe tbody tr th:only-of-type {\n",
       "        vertical-align: middle;\n",
       "    }\n",
       "\n",
       "    .dataframe tbody tr th {\n",
       "        vertical-align: top;\n",
       "    }\n",
       "\n",
       "    .dataframe thead th {\n",
       "        text-align: right;\n",
       "    }\n",
       "</style>\n",
       "<table border=\"1\" class=\"dataframe\">\n",
       "  <thead>\n",
       "    <tr style=\"text-align: right;\">\n",
       "      <th></th>\n",
       "      <th>id</th>\n",
       "      <th>creation_time</th>\n",
       "      <th>formatted_creation_time</th>\n",
       "      <th>airline_code</th>\n",
       "      <th>flight_date</th>\n",
       "      <th>departure_airport</th>\n",
       "      <th>departure_city</th>\n",
       "      <th>departure_country</th>\n",
       "      <th>departure_lat</th>\n",
       "      <th>departure_lon</th>\n",
       "      <th>user_name</th>\n",
       "      <th>action_name</th>\n",
       "      <th>stepID</th>\n",
       "      <th>action_mode</th>\n",
       "      <th>log_level</th>\n",
       "      <th>entry_details</th>\n",
       "      <th>flight_number</th>\n",
       "    </tr>\n",
       "  </thead>\n",
       "  <tbody>\n",
       "    <tr>\n",
       "      <th>612963</th>\n",
       "      <td>138100675</td>\n",
       "      <td>2024-05-03 16:54:13</td>\n",
       "      <td>03-05-2024 16:54:13</td>\n",
       "      <td>MN</td>\n",
       "      <td>3</td>\n",
       "      <td>ORD</td>\n",
       "      <td>Chicago</td>\n",
       "      <td>US</td>\n",
       "      <td>41.97694</td>\n",
       "      <td>-87.90815</td>\n",
       "      <td>human</td>\n",
       "      <td>UpdateEstimatesAction</td>\n",
       "      <td>d7918177276d8af</td>\n",
       "      <td>Received</td>\n",
       "      <td>INFO</td>\n",
       "      <td>com.systemone.lc2.estimateshandling.dto.Estima...</td>\n",
       "      <td>d7918177276d8af</td>\n",
       "    </tr>\n",
       "    <tr>\n",
       "      <th>612964</th>\n",
       "      <td>138100680</td>\n",
       "      <td>2024-05-03 16:54:13</td>\n",
       "      <td>03-05-2024 16:54:13</td>\n",
       "      <td>MN</td>\n",
       "      <td>3</td>\n",
       "      <td>ORD</td>\n",
       "      <td>Chicago</td>\n",
       "      <td>US</td>\n",
       "      <td>41.97694</td>\n",
       "      <td>-87.90815</td>\n",
       "      <td>human</td>\n",
       "      <td>UpdateEstimatesAction</td>\n",
       "      <td>d7918177276d8af</td>\n",
       "      <td>Saved</td>\n",
       "      <td>INFO</td>\n",
       "      <td>Pax Weight = 24880.0 KG Bag Weight = 3885.0 KG...</td>\n",
       "      <td>d7918177276d8af</td>\n",
       "    </tr>\n",
       "  </tbody>\n",
       "</table>\n",
       "</div>"
      ],
      "text/plain": [
       "               id       creation_time formatted_creation_time airline_code  \\\n",
       "612963  138100675 2024-05-03 16:54:13     03-05-2024 16:54:13           MN   \n",
       "612964  138100680 2024-05-03 16:54:13     03-05-2024 16:54:13           MN   \n",
       "\n",
       "        flight_date departure_airport departure_city departure_country  \\\n",
       "612963            3               ORD        Chicago                US   \n",
       "612964            3               ORD        Chicago                US   \n",
       "\n",
       "        departure_lat  departure_lon user_name            action_name  \\\n",
       "612963       41.97694      -87.90815     human  UpdateEstimatesAction   \n",
       "612964       41.97694      -87.90815     human  UpdateEstimatesAction   \n",
       "\n",
       "                 stepID action_mode log_level  \\\n",
       "612963  d7918177276d8af    Received      INFO   \n",
       "612964  d7918177276d8af       Saved      INFO   \n",
       "\n",
       "                                            entry_details    flight_number  \n",
       "612963  com.systemone.lc2.estimateshandling.dto.Estima...  d7918177276d8af  \n",
       "612964  Pax Weight = 24880.0 KG Bag Weight = 3885.0 KG...  d7918177276d8af  "
      ]
     },
     "execution_count": 22,
     "metadata": {},
     "output_type": "execute_result"
    }
   ],
   "source": [
    "filtered_actions[filtered_actions[\"flight_number\"]==\"d7918177276d8af\"]"
   ]
  },
  {
   "cell_type": "code",
   "execution_count": 10,
   "metadata": {},
   "outputs": [],
   "source": [
    "testdf = pd.DataFrame.from_dict(final, orient='index')"
   ]
  }
 ],
 "metadata": {
  "kernelspec": {
   "display_name": ".venv",
   "language": "python",
   "name": "python3"
  },
  "language_info": {
   "codemirror_mode": {
    "name": "ipython",
    "version": 3
   },
   "file_extension": ".py",
   "mimetype": "text/x-python",
   "name": "python",
   "nbconvert_exporter": "python",
   "pygments_lexer": "ipython3",
   "version": "3.12.4"
  }
 },
 "nbformat": 4,
 "nbformat_minor": 2
}
