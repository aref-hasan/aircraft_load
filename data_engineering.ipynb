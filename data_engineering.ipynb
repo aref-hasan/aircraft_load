{
 "cells": [
  {
   "cell_type": "code",
   "execution_count": 15,
   "metadata": {},
   "outputs": [],
   "source": [
    "import pandas as pd"
   ]
  },
  {
   "cell_type": "code",
   "execution_count": 35,
   "metadata": {},
   "outputs": [],
   "source": [
    "continents = [\"europe\", \"asia\", \"america\"]"
   ]
  },
  {
   "cell_type": "code",
   "execution_count": 37,
   "metadata": {},
   "outputs": [],
   "source": [
    "dataframes = {}\n",
    "for continent in continents:\n",
    "    df = pd.read_parquet(f'data/{continent}_data.parquet')\n",
    "    df_copy = df.copy()\n",
    "    df_copy.drop(\"header_line\", axis=1, inplace=True)\n",
    "\n",
    "    stepIDs = []\n",
    "    action_modes = []\n",
    "    header_lines = df[\"header_line\"].values\n",
    "    for header in header_lines:\n",
    "        match = re.search(r\"\\[(.*?)\\]\", header)\n",
    "        if match:\n",
    "            result = match.group(1)\n",
    "            stepIDs.append(result)\n",
    "        else:\n",
    "            stepIDs.append(None)\n",
    "        \n",
    "        \n",
    "        last_ten_characters = header[-10:]\n",
    "        if \"Received\" in header:\n",
    "            action_modes.append(\"Received\")\n",
    "        elif \"Saved\" in header:\n",
    "            action_modes.append(\"Saved\")\n",
    "        else:\n",
    "            action_modes.append(None)\n",
    "\n",
    "    df_copy[\"stepID\"] = stepIDs\n",
    "    df_copy[\"action_mode\"] = action_modes\n",
    "    \n",
    "    dataframes[continent] = df_copy\n",
    "    "
   ]
  }
 ],
 "metadata": {
  "kernelspec": {
   "display_name": ".venv",
   "language": "python",
   "name": "python3"
  },
  "language_info": {
   "codemirror_mode": {
    "name": "ipython",
    "version": 3
   },
   "file_extension": ".py",
   "mimetype": "text/x-python",
   "name": "python",
   "nbconvert_exporter": "python",
   "pygments_lexer": "ipython3",
   "version": "3.12.3"
  }
 },
 "nbformat": 4,
 "nbformat_minor": 2
}
