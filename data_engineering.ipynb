{
 "cells": [
  {
   "cell_type": "code",
   "execution_count": 1,
   "metadata": {},
   "outputs": [],
   "source": [
    "import pandas as pd\n",
    "import re"
   ]
  },
  {
   "cell_type": "code",
   "execution_count": 2,
   "metadata": {},
   "outputs": [],
   "source": [
    "continents = [\"europe\", \"asia\", \"america\"]"
   ]
  },
  {
   "cell_type": "code",
   "execution_count": 37,
   "metadata": {},
   "outputs": [],
   "source": [
    "dataframes = {}\n",
    "for continent in continents:\n",
    "    df = pd.read_parquet(f'data/{continent}_data.parquet')\n",
    "    df_copy = df.copy()\n",
    "    df_copy.drop(\"header_line\", axis=1, inplace=True)\n",
    "\n",
    "    stepIDs = []\n",
    "    action_modes = []\n",
    "    header_lines = df[\"header_line\"].values\n",
    "    for header in header_lines:\n",
    "        match = re.search(r\"\\[(.*?)\\]\", header)\n",
    "        if match:\n",
    "            result = match.group(1)\n",
    "            stepIDs.append(result)\n",
    "        else:\n",
    "            stepIDs.append(None)\n",
    "        \n",
    "        \n",
    "        last_ten_characters = header[-10:]\n",
    "        if \"Received\" in header:\n",
    "            action_modes.append(\"Received\")\n",
    "        elif \"Saved\" in header:\n",
    "            action_modes.append(\"Saved\")\n",
    "        else:\n",
    "            action_modes.append(None)\n",
    "\n",
    "    df_copy[\"stepID\"] = stepIDs\n",
    "    df_copy[\"action_mode\"] = action_modes\n",
    "    \n",
    "    dataframes[continent] = df_copy\n",
    "    "
   ]
  },
  {
   "cell_type": "code",
   "execution_count": 3,
   "metadata": {},
   "outputs": [],
   "source": [
    "europe = pd.read_parquet('data/europe_data.parquet')\n",
    "actions = pd.read_excel('data/Liste der Actions.xlsx')\n",
    "action_names = actions[\"Action Name\"].values"
   ]
  },
  {
   "cell_type": "code",
   "execution_count": 29,
   "metadata": {},
   "outputs": [],
   "source": [
    "filtered_df = None\n",
    "for action in action_names:\n",
    "    tempdf = None\n",
    "    if action == action_names[0]:\n",
    "        tempDF = europe[europe[\"action_name\"] == action]\n",
    "        tempDF = tempDF.head(10)\n",
    "    else:\n",
    "        actiondf = europe[europe[\"action_name\"] == action].head(10)\n",
    "        tempDF = pd.concat([filtered_df, actiondf])\n",
    "    filtered_df = tempDF\n"
   ]
  },
  {
   "cell_type": "code",
   "execution_count": 34,
   "metadata": {},
   "outputs": [],
   "source": [
    "filtered_df.to_csv('data/actions.csv')"
   ]
  }
 ],
 "metadata": {
  "kernelspec": {
   "display_name": ".venv",
   "language": "python",
   "name": "python3"
  },
  "language_info": {
   "codemirror_mode": {
    "name": "ipython",
    "version": 3
   },
   "file_extension": ".py",
   "mimetype": "text/x-python",
   "name": "python",
   "nbconvert_exporter": "python",
   "pygments_lexer": "ipython3",
   "version": "3.12.3"
  }
 },
 "nbformat": 4,
 "nbformat_minor": 2
}
