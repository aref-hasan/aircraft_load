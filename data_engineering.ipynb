{
 "cells": [
  {
   "cell_type": "code",
   "execution_count": 38,
   "metadata": {},
   "outputs": [],
   "source": [
    "import pandas as pd\n",
    "import re"
   ]
  },
  {
   "cell_type": "code",
   "execution_count": 39,
   "metadata": {},
   "outputs": [],
   "source": [
    "continents = [\"europe\", \"asia\", \"america\"]"
   ]
  },
  {
   "cell_type": "code",
<<<<<<< HEAD:exampleactions.ipynb
   "execution_count": null,
   "metadata": {},
   "outputs": [],
   "source": [
    "europe = pd.read_parquet('data/data_parquet/europe_data.parquet')\n",
    "asia = pd.read_parquet('data/data_parquet/asia_data.parquet')\n",
    "america = pd.read_parquet('data/data_parquet/america_data.parquet')\n",
    "data = pd.concat([europe, asia, america])"
=======
   "execution_count": 40,
   "metadata": {},
   "outputs": [],
   "source": [
    "dataframes = {}\n",
    "for continent in continents:\n",
    "    df = pd.read_parquet(f'data/{continent}_data.parquet')\n",
    "    df_copy = df.copy()\n",
    "    df_copy.drop(\"header_line\", axis=1, inplace=True)\n",
    "\n",
    "    stepIDs = []\n",
    "    action_modes = []\n",
    "    header_lines = df[\"header_line\"].values\n",
    "    for header in header_lines:\n",
    "        match = re.search(r\"\\[(.*?)\\]\", header)\n",
    "        if match:\n",
    "            result = match.group(1)\n",
    "            stepIDs.append(result)\n",
    "        else:\n",
    "            stepIDs.append(None)\n",
    "        \n",
    "        \n",
    "        last_ten_characters = header[-10:]\n",
    "        if \"Received\" in header:\n",
    "            action_modes.append(\"Received\")\n",
    "        elif \"Saved\" in header:\n",
    "            action_modes.append(\"Saved\")\n",
    "        elif \"Sent\" in header:\n",
    "            action_modes.append(\"Sent\")\n",
    "        else:\n",
    "            action_modes.append(None)\n",
    "\n",
    "    df_copy[\"stepID\"] = stepIDs\n",
    "    df_copy[\"action_mode\"] = action_modes\n",
    "    \n",
    "    dataframes[continent] = df_copy\n",
    "    "
>>>>>>> main:data_engineering.ipynb
   ]
  },
  {
   "cell_type": "code",
   "execution_count": 41,
   "metadata": {},
   "outputs": [],
   "source": [
<<<<<<< HEAD:exampleactions.ipynb
=======
    "#europe = pd.read_parquet('data/europe_data.parquet')\n",
    "#asia = pd.read_parquet('data/asia_data.parquet')\n",
    "#america = pd.read_parquet('data/america_data.parquet')\n",
    "data = pd.concat([dataframes[\"europe\"], dataframes[\"asia\"], dataframes[\"america\"]])\n",
>>>>>>> main:data_engineering.ipynb
    "actions = pd.read_excel('data/Liste der Actions.xlsx')\n",
    "action_names = actions[\"Action Name\"].values"
   ]
  },
  {
   "cell_type": "code",
   "execution_count": 51,
   "metadata": {},
   "outputs": [],
   "source": [
    "filtered_df = None\n",
    "counter = 0\n",
    "for action in action_names:\n",
    "    tempdf = None\n",
    "    for status in [\"Received\", \"Saved\", \"Sent\"]:\n",
    "        if (action == action_names[0]) & (status ==\"Received\"):\n",
    "            tempDF = data[data[\"action_name\"] == action]\n",
    "            tempDF = tempDF[tempDF[\"action_mode\"] == status]\n",
    "            filtered_df = tempDF.head(10)\n",
    "        else:\n",
    "            actiondf = data[data[\"action_name\"] == action]\n",
    "            actiondf = actiondf[actiondf[\"action_mode\"] == status]\n",
    "            actiondf = actiondf.head(10)\n",
    "            filtered_df = pd.concat([filtered_df, actiondf])\n"
   ]
  },
  {
   "cell_type": "code",
   "execution_count": 52,
   "metadata": {},
   "outputs": [],
   "source": [
    "filtered_df.to_csv('data/actions.csv')"
   ]
  }
 ],
 "metadata": {
  "kernelspec": {
   "display_name": ".venv",
   "language": "python",
   "name": "python3"
  },
  "language_info": {
   "codemirror_mode": {
    "name": "ipython",
    "version": 3
   },
   "file_extension": ".py",
   "mimetype": "text/x-python",
   "name": "python",
   "nbconvert_exporter": "python",
   "pygments_lexer": "ipython3",
   "version": "3.12.3"
  }
 },
 "nbformat": 4,
 "nbformat_minor": 2
}
