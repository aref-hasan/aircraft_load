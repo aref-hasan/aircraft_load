{
 "cells": [
  {
   "cell_type": "code",
   "execution_count": 31,
   "metadata": {},
   "outputs": [],
   "source": [
    "import pandas as pd\n",
    "import json\n",
    "def load_config(path):\n",
    "    with open(path, 'r') as file:\n",
    "        return json.load(file)\n",
    "\n",
    "config_path = '../pandas_config.json'\n",
    "config = load_config(config_path)\n",
    "parquet_config = config['parquet']\n",
    "\n",
    "# Setting up the engine as a global constant\n",
    "ENGINE = parquet_config['engine']\n",
    "COMPRESSION = parquet_config['compression']\n",
    "FILE_PATH = \"../data/data_parquet\"\n",
    "CONTINENTS = [\"asia\", \"america\", \"europe\"]"
   ]
  },
  {
   "cell_type": "code",
   "execution_count": 32,
   "metadata": {},
   "outputs": [],
   "source": [
    "df = None\n",
    "for continent in CONTINENTS:\n",
    "    subset_df = pd.read_parquet(FILE_PATH+f\"/{continent}_data.parquet\", engine=ENGINE)\n",
    "    if continent == CONTINENTS[0]:\n",
    "        df = subset_df\n",
    "    else:\n",
    "        df = pd.concat([df, subset_df], ignore_index=True)\n"
   ]
  },
  {
   "cell_type": "markdown",
   "metadata": {},
   "source": [
    "# Ratio: Actions performed by humans and service accounts"
   ]
  },
  {
   "cell_type": "code",
   "execution_count": 33,
   "metadata": {},
   "outputs": [],
   "source": [
    "user_ratio = df[\"user_name\"].value_counts(normalize=True).to_frame().to_parquet(\"../data/visualization/user_ratio.parquet\", engine=ENGINE, compression=COMPRESSION)"
   ]
  },
  {
   "cell_type": "markdown",
   "metadata": {},
   "source": [
    "# Airports with most departures"
   ]
  },
  {
   "cell_type": "code",
   "execution_count": 34,
   "metadata": {},
   "outputs": [],
   "source": [
    "df_unique_flight_numbers = df.drop_duplicates(subset='flight_number')\n",
    "count_of_departures_by_airport = df_unique_flight_numbers[\"departure_airport\"].value_counts().to_frame().to_parquet(\"../data/visualization/count_of_departures_by_airport.parquet\", engine=ENGINE, compression=COMPRESSION)"
   ]
  }
 ],
 "metadata": {
  "kernelspec": {
   "display_name": ".venv",
   "language": "python",
   "name": "python3"
  },
  "language_info": {
   "codemirror_mode": {
    "name": "ipython",
    "version": 3
   },
   "file_extension": ".py",
   "mimetype": "text/x-python",
   "name": "python",
   "nbconvert_exporter": "python",
   "pygments_lexer": "ipython3",
   "version": "3.12.4"
  }
 },
 "nbformat": 4,
 "nbformat_minor": 2
}
