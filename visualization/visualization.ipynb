{
 "cells": [
  {
   "cell_type": "code",
   "execution_count": 2,
   "metadata": {},
   "outputs": [],
   "source": [
    "import pandas as pd\n",
    "FILE_PATH = \"../data/data_parquet\"\n",
    "CONTINENTS = [\"asia\", \"europe\", \"america\"]"
   ]
  },
  {
   "cell_type": "code",
   "execution_count": 7,
   "metadata": {},
   "outputs": [],
   "source": [
    "df = None\n",
    "for continent in CONTINENTS:\n",
    "    subset_df = pd.read_parquet(FILE_PATH+f\"/{continent}_data.parquet\")\n",
    "    if continent == CONTINENTS[0]:\n",
    "        df = subset_df\n",
    "    else:\n",
    "        df = pd.concat([df, subset_df], ignore_index=True)\n"
   ]
  },
  {
   "cell_type": "markdown",
   "metadata": {},
   "source": [
    "# Ratio: Actions performed by humans and service accounts"
   ]
  },
  {
   "cell_type": "code",
   "execution_count": 17,
   "metadata": {},
   "outputs": [],
   "source": [
    "user_ratio = df[\"user_name\"].value_counts(normalize=True).to_frame()\n",
    "user_ratio.to_parquet(\"../data/visualization/user_ratio.parquet\")"
   ]
  }
 ],
 "metadata": {
  "kernelspec": {
   "display_name": ".venv",
   "language": "python",
   "name": "python3"
  },
  "language_info": {
   "codemirror_mode": {
    "name": "ipython",
    "version": 3
   },
   "file_extension": ".py",
   "mimetype": "text/x-python",
   "name": "python",
   "nbconvert_exporter": "python",
   "pygments_lexer": "ipython3",
   "version": "3.12.4"
  }
 },
 "nbformat": 4,
 "nbformat_minor": 2
}
