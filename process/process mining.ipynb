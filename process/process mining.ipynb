{
 "cells": [
  {
   "cell_type": "markdown",
   "metadata": {},
   "source": [
    "# Process Mining for the visualization in Celonis"
   ]
  },
  {
   "cell_type": "code",
   "execution_count": 5,
   "metadata": {},
   "outputs": [],
   "source": [
    "import pandas as pd\n",
    "import re "
   ]
  },
  {
   "cell_type": "markdown",
   "metadata": {},
   "source": [
    "## Concatenate the datasets"
   ]
  },
  {
   "cell_type": "code",
   "execution_count": 6,
   "metadata": {},
   "outputs": [],
   "source": [
    "import pandas as pd\n",
    "\n",
    "continents = [\"europe\", \"asia\", \"america\"]\n",
    "\n",
    "# Load and concatenate data from different continents\n",
    "europe = pd.read_parquet('../data/data_parquet/europe_data.parquet')\n",
    "asia = pd.read_parquet('../data/data_parquet/asia_data.parquet')\n",
    "america = pd.read_parquet('../data/data_parquet/america_data.parquet')\n",
    "\n",
    "data = pd.concat([europe, asia, america])\n",
    "\n"
   ]
  },
  {
   "cell_type": "markdown",
   "metadata": {},
   "source": [
    "## Convert the the time and add milliseconds"
   ]
  },
  {
   "cell_type": "code",
   "execution_count": 7,
   "metadata": {},
   "outputs": [],
   "source": [
    "# convert 'creation_time' to datetime and correct the format\n",
    "data['creation_time'] = pd.to_datetime(data['creation_time'], errors='coerce')\n",
    "\n",
    "# format date and insert next to 'creation_time'\n",
    "data.insert(data.columns.get_loc('creation_time') + 1, 'formatted_creation_time', data['creation_time'].dt.strftime('%d-%m-%Y %H:%M:%S.%f').str[:-3])\n",
    "\n"
   ]
  },
  {
   "cell_type": "markdown",
   "metadata": {},
   "source": [
    "## Add new flight_id"
   ]
  },
  {
   "cell_type": "code",
   "execution_count": 8,
   "metadata": {},
   "outputs": [],
   "source": [
    "data['flight_id'] = data[\"airline_code\"].astype(str) + \"-\" + data['flight_number'].astype(str) + \"-\" + data['creation_time'].dt.year.astype(str) + \"-\" + data[\"flight_date\"].astype(str) + \"-\" + data['creation_time'].dt.month.astype(str)"
   ]
  },
  {
   "cell_type": "markdown",
   "metadata": {},
   "source": [
    "## Drop unnecessary columns"
   ]
  },
  {
   "cell_type": "code",
   "execution_count": 9,
   "metadata": {},
   "outputs": [],
   "source": [
    "DROP_COLUMNS = ['entry_details', 'airline_code', 'header_line', 'user_name']\n",
    "data = data.drop(columns=DROP_COLUMNS)"
   ]
  },
  {
   "cell_type": "markdown",
   "metadata": {},
   "source": [
    "## Save the file"
   ]
  },
  {
   "cell_type": "code",
   "execution_count": 10,
   "metadata": {},
   "outputs": [],
   "source": [
    "# Save the concatenated dataset to a new Parquet file\n",
    "data.to_parquet('../process/data/data_parquet/combined_data.parquet')\n",
    "\n",
    "# Save as CSV file\n",
    "data.to_csv('../process/data/data_csv/combined_data.csv', index=False)"
   ]
  }
 ],
 "metadata": {
  "kernelspec": {
   "display_name": "Python 3",
   "language": "python",
   "name": "python3"
  },
  "language_info": {
   "codemirror_mode": {
    "name": "ipython",
    "version": 3
   },
   "file_extension": ".py",
   "mimetype": "text/x-python",
   "name": "python",
   "nbconvert_exporter": "python",
   "pygments_lexer": "ipython3",
   "version": "3.12.0"
  }
 },
 "nbformat": 4,
 "nbformat_minor": 2
}
