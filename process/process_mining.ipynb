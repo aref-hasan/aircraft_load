{
 "cells": [
  {
   "cell_type": "markdown",
   "metadata": {},
   "source": [
    "# Process Mining for the visualization in Celonis"
   ]
  },
  {
   "cell_type": "code",
   "execution_count": 28,
   "metadata": {},
   "outputs": [],
   "source": [
    "import pandas as pd\n",
    "import re "
   ]
  },
  {
   "cell_type": "markdown",
   "metadata": {},
   "source": [
    "### Concatenate the datasets"
   ]
  },
  {
   "cell_type": "code",
   "execution_count": 29,
   "metadata": {},
   "outputs": [],
   "source": [
    "import pandas as pd\n",
    "\n",
    "continents = [\"europe\", \"asia\", \"america\"]\n",
    "\n",
    "# Load and concatenate data from different continents\n",
    "europe = pd.read_parquet('../data/data_parquet/europe_data.parquet')\n",
    "asia = pd.read_parquet('../data/data_parquet/asia_data.parquet')\n",
    "america = pd.read_parquet('../data/data_parquet/america_data.parquet')\n",
    "\n",
    "data = pd.concat([europe, asia, america])\n",
    "\n"
   ]
  },
  {
   "cell_type": "markdown",
   "metadata": {},
   "source": [
    "### Convert the the time and add milliseconds"
   ]
  },
  {
   "cell_type": "code",
   "execution_count": 30,
   "metadata": {},
   "outputs": [],
   "source": [
    "# convert 'creation_time' to datetime and correct the format\n",
    "data['creation_time'] = pd.to_datetime(data['creation_time'], errors='coerce')\n",
    "\n",
    "# format date and insert next to 'creation_time'\n",
    "data.insert(data.columns.get_loc('creation_time') + 1, 'formatted_creation_time', data['creation_time'].dt.strftime('%d-%m-%Y %H:%M:%S.%f').str[:-3])\n",
    "\n"
   ]
  },
  {
   "cell_type": "markdown",
   "metadata": {},
   "source": [
    "### Add new flight_id"
   ]
  },
  {
   "cell_type": "code",
   "execution_count": 31,
   "metadata": {},
   "outputs": [],
   "source": [
    "data['flight_id'] = data[\"airline_code\"].astype(str) + \"-\" + data['flight_number'].astype(str) + \"-\" + data['creation_time'].dt.year.astype(str) + \"-\" + data[\"flight_date\"].astype(str) + \"-\" + data['creation_time'].dt.month.astype(str)"
   ]
  },
  {
   "cell_type": "markdown",
   "metadata": {},
   "source": [
    "### Drop unnecessary columns"
   ]
  },
  {
   "cell_type": "code",
   "execution_count": 32,
   "metadata": {},
   "outputs": [],
   "source": [
    "DROP_COLUMNS = ['entry_details', 'user_name', 'flight_date', 'departure_airport']\n",
    "data = data.drop(columns=DROP_COLUMNS)"
   ]
  },
  {
   "cell_type": "markdown",
   "metadata": {},
   "source": [
    "### Save the file"
   ]
  },
  {
   "cell_type": "code",
   "execution_count": 33,
   "metadata": {},
   "outputs": [],
   "source": [
    "# Save the concatenated dataset to a new Parquet file\n",
    "data.to_parquet('../process/data/data_parquet/combined_data.parquet')\n",
    "\n",
    "# Save as CSV file\n",
    "data.to_csv('../process/data/data_csv/combined_data.csv', index=False)"
   ]
  },
  {
   "cell_type": "markdown",
   "metadata": {},
   "source": [
    "### Extract the timestamp from header_line"
   ]
  },
  {
   "cell_type": "code",
   "execution_count": 34,
   "metadata": {},
   "outputs": [
    {
     "name": "stdout",
     "output_type": "stream",
     "text": [
      "Zeitinformationen wurden extrahiert und in eine neue Spalte eingefügt.\n"
     ]
    }
   ],
   "source": [
    "import pandas as pd\n",
    "import re\n",
    "\n",
    "# CSV-Datei laden\n",
    "file_path = '../process/data/data_csv/combined_data.csv'\n",
    "df = pd.read_csv(file_path)\n",
    "\n",
    "# Funktion zur Extraktion der Zeit mit Regex\n",
    "def extract_time(lol):\n",
    "    match = re.search(r'\\d{4}-\\d{2}-\\d{2} \\d{2}:\\d{2}:\\d{2},\\d{3}', lol)\n",
    "    if match:\n",
    "        return match.group(0)\n",
    "    return None\n",
    "\n",
    "# Neue Spalte mit der extrahierten Zeit erstellen\n",
    "df['extracted_time'] = df['header_line'].apply(extract_time)\n",
    "\n",
    "# Das Ergebnis in derselben Datei speichern\n",
    "df.to_csv(file_path, index=False)\n",
    "\n",
    "# Ausgabe\n",
    "print(\"Zeitinformationen wurden extrahiert und in eine neue Spalte eingefügt.\")"
   ]
  },
  {
   "cell_type": "code",
   "execution_count": 35,
   "metadata": {},
   "outputs": [
    {
     "data": {
      "text/plain": [
       "Index(['id', 'creation_time', 'formatted_creation_time', 'airline_code',\n",
       "       'flight_number', 'action_name', 'header_line', 'flight_id'],\n",
       "      dtype='object')"
      ]
     },
     "execution_count": 35,
     "metadata": {},
     "output_type": "execute_result"
    }
   ],
   "source": [
    "data.columns"
   ]
  }
 ],
 "metadata": {
  "kernelspec": {
   "display_name": "Python 3",
   "language": "python",
   "name": "python3"
  },
  "language_info": {
   "codemirror_mode": {
    "name": "ipython",
    "version": 3
   },
   "file_extension": ".py",
   "mimetype": "text/x-python",
   "name": "python",
   "nbconvert_exporter": "python",
   "pygments_lexer": "ipython3",
   "version": "3.12.0"
  }
 },
 "nbformat": 4,
 "nbformat_minor": 2
}
