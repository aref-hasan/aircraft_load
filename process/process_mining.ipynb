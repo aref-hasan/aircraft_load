{
 "cells": [
  {
   "cell_type": "markdown",
   "metadata": {},
   "source": [
    "# Process Mining for the visualization in Celonis"
   ]
  },
  {
   "cell_type": "code",
   "execution_count": 3,
   "metadata": {},
   "outputs": [],
   "source": [
    "import pandas as pd\n",
    "import re "
   ]
  },
  {
   "cell_type": "markdown",
   "metadata": {},
   "source": [
    "### Concatenate the datasets"
   ]
  },
  {
   "cell_type": "code",
   "execution_count": 4,
   "metadata": {},
   "outputs": [],
   "source": [
    "import pandas as pd\n",
    "\n",
    "continents = [\"europe\", \"asia\", \"america\"]\n",
    "\n",
    "# Load and concatenate data from different continents\n",
    "europe = pd.read_parquet('../data/data_parquet/europe_data.parquet')\n",
    "asia = pd.read_parquet('../data/data_parquet/asia_data.parquet')\n",
    "america = pd.read_parquet('../data/data_parquet/america_data.parquet')\n",
    "\n",
    "data = pd.concat([europe, asia, america])\n",
    "\n"
   ]
  },
  {
   "cell_type": "markdown",
   "metadata": {},
   "source": [
    "### Convert the the time and add milliseconds"
   ]
  },
  {
   "cell_type": "code",
   "execution_count": 5,
   "metadata": {},
   "outputs": [],
   "source": [
    "# convert 'creation_time' to datetime and correct the format\n",
    "data['creation_time'] = pd.to_datetime(data['creation_time'], errors='coerce')\n",
    "\n",
    "# format date and insert next to 'creation_time'\n",
    "data.insert(data.columns.get_loc('creation_time') + 1, 'formatted_creation_time', data['creation_time'].dt.strftime('%d-%m-%Y %H:%M:%S.%f').str[:-3])\n",
    "\n"
   ]
  },
  {
   "cell_type": "markdown",
   "metadata": {},
   "source": [
    "### Add new flight_id"
   ]
  },
  {
   "cell_type": "code",
   "execution_count": 6,
   "metadata": {},
   "outputs": [],
   "source": [
    "data['flight_id'] = data[\"airline_code\"].astype(str) + \"-\" + data['flight_number'].astype(str) + \"-\" + data['creation_time'].dt.year.astype(str) + \"-\" + data[\"flight_date\"].astype(str) + \"-\" + data['creation_time'].dt.month.astype(str)"
   ]
  },
  {
   "cell_type": "markdown",
   "metadata": {},
   "source": [
    "### Drop unnecessary columns"
   ]
  },
  {
   "cell_type": "code",
   "execution_count": 7,
   "metadata": {},
   "outputs": [],
   "source": [
    "DROP_COLUMNS = ['entry_details', 'user_name', 'flight_date', 'departure_airport']\n",
    "data = data.drop(columns=DROP_COLUMNS)"
   ]
  },
  {
   "cell_type": "code",
   "execution_count": 8,
   "metadata": {},
   "outputs": [
    {
     "data": {
      "text/html": [
       "<div>\n",
       "<style scoped>\n",
       "    .dataframe tbody tr th:only-of-type {\n",
       "        vertical-align: middle;\n",
       "    }\n",
       "\n",
       "    .dataframe tbody tr th {\n",
       "        vertical-align: top;\n",
       "    }\n",
       "\n",
       "    .dataframe thead th {\n",
       "        text-align: right;\n",
       "    }\n",
       "</style>\n",
       "<table border=\"1\" class=\"dataframe\">\n",
       "  <thead>\n",
       "    <tr style=\"text-align: right;\">\n",
       "      <th></th>\n",
       "      <th>id</th>\n",
       "      <th>creation_time</th>\n",
       "      <th>formatted_creation_time</th>\n",
       "      <th>airline_code</th>\n",
       "      <th>flight_number</th>\n",
       "      <th>action_name</th>\n",
       "      <th>header_line</th>\n",
       "      <th>flight_id</th>\n",
       "    </tr>\n",
       "  </thead>\n",
       "  <tbody>\n",
       "    <tr>\n",
       "      <th>0</th>\n",
       "      <td>137524484</td>\n",
       "      <td>2024-04-30 04:01:47</td>\n",
       "      <td>30-04-2024 04:01:47.000</td>\n",
       "      <td>MN</td>\n",
       "      <td>1262</td>\n",
       "      <td>AssignLoadplanAction</td>\n",
       "      <td>2024-04-30 04:01:47,383 INFO  [a277234c22fa2e5...</td>\n",
       "      <td>MN-1262-2024-30-4</td>\n",
       "    </tr>\n",
       "    <tr>\n",
       "      <th>1</th>\n",
       "      <td>137524940</td>\n",
       "      <td>2024-04-30 04:01:50</td>\n",
       "      <td>30-04-2024 04:01:50.000</td>\n",
       "      <td>MN</td>\n",
       "      <td>1262</td>\n",
       "      <td>AssignLoadplanAction</td>\n",
       "      <td>2024-04-30 04:01:50,188 INFO  [3b152cbdf5b057e...</td>\n",
       "      <td>MN-1262-2024-30-4</td>\n",
       "    </tr>\n",
       "    <tr>\n",
       "      <th>2</th>\n",
       "      <td>137524943</td>\n",
       "      <td>2024-04-30 04:01:50</td>\n",
       "      <td>30-04-2024 04:01:50.000</td>\n",
       "      <td>MN</td>\n",
       "      <td>1262</td>\n",
       "      <td>AssignLoadplanAction</td>\n",
       "      <td>2024-04-30 04:01:50,193 INFO  [3b152cbdf5b057e...</td>\n",
       "      <td>MN-1262-2024-30-4</td>\n",
       "    </tr>\n",
       "    <tr>\n",
       "      <th>3</th>\n",
       "      <td>137524964</td>\n",
       "      <td>2024-04-30 04:05:32</td>\n",
       "      <td>30-04-2024 04:05:32.000</td>\n",
       "      <td>MN</td>\n",
       "      <td>1630</td>\n",
       "      <td>AssignLoadplanAction</td>\n",
       "      <td>2024-04-30 04:05:32,214 INFO  [52735a0dd84d57d...</td>\n",
       "      <td>MN-1630-2024-30-4</td>\n",
       "    </tr>\n",
       "    <tr>\n",
       "      <th>4</th>\n",
       "      <td>137525021</td>\n",
       "      <td>2024-04-30 04:02:12</td>\n",
       "      <td>30-04-2024 04:02:12.000</td>\n",
       "      <td>MN</td>\n",
       "      <td>1202</td>\n",
       "      <td>AssignLoadplanAction</td>\n",
       "      <td>2024-04-30 04:02:12,081 INFO  [8d65801e1dbb10e...</td>\n",
       "      <td>MN-1202-2024-30-4</td>\n",
       "    </tr>\n",
       "  </tbody>\n",
       "</table>\n",
       "</div>"
      ],
      "text/plain": [
       "          id       creation_time  formatted_creation_time airline_code  \\\n",
       "0  137524484 2024-04-30 04:01:47  30-04-2024 04:01:47.000           MN   \n",
       "1  137524940 2024-04-30 04:01:50  30-04-2024 04:01:50.000           MN   \n",
       "2  137524943 2024-04-30 04:01:50  30-04-2024 04:01:50.000           MN   \n",
       "3  137524964 2024-04-30 04:05:32  30-04-2024 04:05:32.000           MN   \n",
       "4  137525021 2024-04-30 04:02:12  30-04-2024 04:02:12.000           MN   \n",
       "\n",
       "   flight_number           action_name  \\\n",
       "0           1262  AssignLoadplanAction   \n",
       "1           1262  AssignLoadplanAction   \n",
       "2           1262  AssignLoadplanAction   \n",
       "3           1630  AssignLoadplanAction   \n",
       "4           1202  AssignLoadplanAction   \n",
       "\n",
       "                                         header_line          flight_id  \n",
       "0  2024-04-30 04:01:47,383 INFO  [a277234c22fa2e5...  MN-1262-2024-30-4  \n",
       "1  2024-04-30 04:01:50,188 INFO  [3b152cbdf5b057e...  MN-1262-2024-30-4  \n",
       "2  2024-04-30 04:01:50,193 INFO  [3b152cbdf5b057e...  MN-1262-2024-30-4  \n",
       "3  2024-04-30 04:05:32,214 INFO  [52735a0dd84d57d...  MN-1630-2024-30-4  \n",
       "4  2024-04-30 04:02:12,081 INFO  [8d65801e1dbb10e...  MN-1202-2024-30-4  "
      ]
     },
     "execution_count": 8,
     "metadata": {},
     "output_type": "execute_result"
    }
   ],
   "source": [
    "data.head()"
   ]
  },
  {
   "cell_type": "markdown",
   "metadata": {},
   "source": [
    "### Save the file"
   ]
  },
  {
   "cell_type": "code",
   "execution_count": 9,
   "metadata": {},
   "outputs": [],
   "source": [
    "# Save the concatenated dataset to a new Parquet file\n",
    "data.to_parquet('../process/data/data_parquet/combined_data.parquet')\n",
    "\n",
    "# Save as CSV file\n",
    "data.to_csv('../process/data/data_csv/combined_data.csv', index=False)"
   ]
  },
  {
   "cell_type": "markdown",
   "metadata": {},
   "source": [
    "### Extract the timestamp from header_line"
   ]
  },
  {
   "cell_type": "code",
   "execution_count": 10,
   "metadata": {},
   "outputs": [
    {
     "name": "stdout",
     "output_type": "stream",
     "text": [
      "Zeitinformationen wurden extrahiert und in eine neue Spalte eingefügt.\n"
     ]
    }
   ],
   "source": [
    "import pandas as pd\n",
    "import re\n",
    "\n",
    "# CSV-Datei laden\n",
    "file_path = '../process/data/data_csv/combined_data.csv'\n",
    "df = pd.read_csv(file_path)\n",
    "\n",
    "def extract_time(lol):\n",
    "    match = re.search(r'\\d{4}-\\d{2}-\\d{2} \\d{2}:\\d{2}:\\d{2},\\d{3}', lol)\n",
    "    if match:\n",
    "        return match.group(0)\n",
    "    return None\n",
    "\n",
    "# Neue Spalte mit der extrahierten Zeit erstellen\n",
    "df['extracted_time'] = df['header_line'].apply(extract_time)\n",
    "\n",
    "# Das Ergebnis in derselben Datei speichern\n",
    "df.to_csv(file_path, index=False)\n",
    "\n",
    "# Ausgabe\n",
    "print(\"Zeitinformationen wurden extrahiert und in eine neue Spalte eingefügt.\")"
   ]
  },
  {
   "cell_type": "code",
   "execution_count": 12,
   "metadata": {},
   "outputs": [
    {
     "data": {
      "text/plain": [
       "Index(['id', 'creation_time', 'formatted_creation_time', 'airline_code',\n",
       "       'flight_number', 'action_name', 'header_line', 'flight_id',\n",
       "       'extracted_time'],\n",
       "      dtype='object')"
      ]
     },
     "execution_count": 12,
     "metadata": {},
     "output_type": "execute_result"
    }
   ],
   "source": [
    "df.columns"
   ]
  },
  {
   "cell_type": "code",
   "execution_count": 13,
   "metadata": {},
   "outputs": [
    {
     "data": {
      "text/html": [
       "<div>\n",
       "<style scoped>\n",
       "    .dataframe tbody tr th:only-of-type {\n",
       "        vertical-align: middle;\n",
       "    }\n",
       "\n",
       "    .dataframe tbody tr th {\n",
       "        vertical-align: top;\n",
       "    }\n",
       "\n",
       "    .dataframe thead th {\n",
       "        text-align: right;\n",
       "    }\n",
       "</style>\n",
       "<table border=\"1\" class=\"dataframe\">\n",
       "  <thead>\n",
       "    <tr style=\"text-align: right;\">\n",
       "      <th></th>\n",
       "      <th>id</th>\n",
       "      <th>creation_time</th>\n",
       "      <th>formatted_creation_time</th>\n",
       "      <th>airline_code</th>\n",
       "      <th>flight_number</th>\n",
       "      <th>action_name</th>\n",
       "      <th>header_line</th>\n",
       "      <th>flight_id</th>\n",
       "      <th>extracted_time</th>\n",
       "    </tr>\n",
       "  </thead>\n",
       "  <tbody>\n",
       "    <tr>\n",
       "      <th>0</th>\n",
       "      <td>137524484</td>\n",
       "      <td>2024-04-30 04:01:47</td>\n",
       "      <td>30-04-2024 04:01:47.000</td>\n",
       "      <td>MN</td>\n",
       "      <td>1262</td>\n",
       "      <td>AssignLoadplanAction</td>\n",
       "      <td>2024-04-30 04:01:47,383 INFO  [a277234c22fa2e5...</td>\n",
       "      <td>MN-1262-2024-30-4</td>\n",
       "      <td>2024-04-30 04:01:47,383</td>\n",
       "    </tr>\n",
       "    <tr>\n",
       "      <th>1</th>\n",
       "      <td>137524940</td>\n",
       "      <td>2024-04-30 04:01:50</td>\n",
       "      <td>30-04-2024 04:01:50.000</td>\n",
       "      <td>MN</td>\n",
       "      <td>1262</td>\n",
       "      <td>AssignLoadplanAction</td>\n",
       "      <td>2024-04-30 04:01:50,188 INFO  [3b152cbdf5b057e...</td>\n",
       "      <td>MN-1262-2024-30-4</td>\n",
       "      <td>2024-04-30 04:01:50,188</td>\n",
       "    </tr>\n",
       "    <tr>\n",
       "      <th>2</th>\n",
       "      <td>137524943</td>\n",
       "      <td>2024-04-30 04:01:50</td>\n",
       "      <td>30-04-2024 04:01:50.000</td>\n",
       "      <td>MN</td>\n",
       "      <td>1262</td>\n",
       "      <td>AssignLoadplanAction</td>\n",
       "      <td>2024-04-30 04:01:50,193 INFO  [3b152cbdf5b057e...</td>\n",
       "      <td>MN-1262-2024-30-4</td>\n",
       "      <td>2024-04-30 04:01:50,193</td>\n",
       "    </tr>\n",
       "    <tr>\n",
       "      <th>3</th>\n",
       "      <td>137524964</td>\n",
       "      <td>2024-04-30 04:05:32</td>\n",
       "      <td>30-04-2024 04:05:32.000</td>\n",
       "      <td>MN</td>\n",
       "      <td>1630</td>\n",
       "      <td>AssignLoadplanAction</td>\n",
       "      <td>2024-04-30 04:05:32,214 INFO  [52735a0dd84d57d...</td>\n",
       "      <td>MN-1630-2024-30-4</td>\n",
       "      <td>2024-04-30 04:05:32,214</td>\n",
       "    </tr>\n",
       "    <tr>\n",
       "      <th>4</th>\n",
       "      <td>137525021</td>\n",
       "      <td>2024-04-30 04:02:12</td>\n",
       "      <td>30-04-2024 04:02:12.000</td>\n",
       "      <td>MN</td>\n",
       "      <td>1202</td>\n",
       "      <td>AssignLoadplanAction</td>\n",
       "      <td>2024-04-30 04:02:12,081 INFO  [8d65801e1dbb10e...</td>\n",
       "      <td>MN-1202-2024-30-4</td>\n",
       "      <td>2024-04-30 04:02:12,081</td>\n",
       "    </tr>\n",
       "  </tbody>\n",
       "</table>\n",
       "</div>"
      ],
      "text/plain": [
       "          id        creation_time  formatted_creation_time airline_code  \\\n",
       "0  137524484  2024-04-30 04:01:47  30-04-2024 04:01:47.000           MN   \n",
       "1  137524940  2024-04-30 04:01:50  30-04-2024 04:01:50.000           MN   \n",
       "2  137524943  2024-04-30 04:01:50  30-04-2024 04:01:50.000           MN   \n",
       "3  137524964  2024-04-30 04:05:32  30-04-2024 04:05:32.000           MN   \n",
       "4  137525021  2024-04-30 04:02:12  30-04-2024 04:02:12.000           MN   \n",
       "\n",
       "   flight_number           action_name  \\\n",
       "0           1262  AssignLoadplanAction   \n",
       "1           1262  AssignLoadplanAction   \n",
       "2           1262  AssignLoadplanAction   \n",
       "3           1630  AssignLoadplanAction   \n",
       "4           1202  AssignLoadplanAction   \n",
       "\n",
       "                                         header_line          flight_id  \\\n",
       "0  2024-04-30 04:01:47,383 INFO  [a277234c22fa2e5...  MN-1262-2024-30-4   \n",
       "1  2024-04-30 04:01:50,188 INFO  [3b152cbdf5b057e...  MN-1262-2024-30-4   \n",
       "2  2024-04-30 04:01:50,193 INFO  [3b152cbdf5b057e...  MN-1262-2024-30-4   \n",
       "3  2024-04-30 04:05:32,214 INFO  [52735a0dd84d57d...  MN-1630-2024-30-4   \n",
       "4  2024-04-30 04:02:12,081 INFO  [8d65801e1dbb10e...  MN-1202-2024-30-4   \n",
       "\n",
       "            extracted_time  \n",
       "0  2024-04-30 04:01:47,383  \n",
       "1  2024-04-30 04:01:50,188  \n",
       "2  2024-04-30 04:01:50,193  \n",
       "3  2024-04-30 04:05:32,214  \n",
       "4  2024-04-30 04:02:12,081  "
      ]
     },
     "execution_count": 13,
     "metadata": {},
     "output_type": "execute_result"
    }
   ],
   "source": [
    "df.head()"
   ]
  }
 ],
 "metadata": {
  "kernelspec": {
   "display_name": "Python 3",
   "language": "python",
   "name": "python3"
  },
  "language_info": {
   "codemirror_mode": {
    "name": "ipython",
    "version": 3
   },
   "file_extension": ".py",
   "mimetype": "text/x-python",
   "name": "python",
   "nbconvert_exporter": "python",
   "pygments_lexer": "ipython3",
   "version": "3.12.0"
  }
 },
 "nbformat": 4,
 "nbformat_minor": 2
}
