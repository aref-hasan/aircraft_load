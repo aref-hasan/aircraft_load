{
 "cells": [
  {
   "cell_type": "markdown",
   "metadata": {},
   "source": [
    "# Process Mining for the visualization in Celonis"
   ]
  },
  {
   "cell_type": "code",
   "execution_count": 17,
   "metadata": {},
   "outputs": [],
   "source": [
    "import pandas as pd\n",
    "import re \n",
    "import os\n",
    "import glob\n",
    "import json\n",
    "def load_config(path):\n",
    "    with open(path, 'r') as file:\n",
    "        return json.load(file)\n",
    "\n",
    "config_path = '../pandas_config.json'\n",
    "config = load_config(config_path)\n",
    "parquet_config = config['parquet']\n",
    "\n",
    "# Setting up the engine as a global constant\n",
    "ENGINE = parquet_config['engine']\n",
    "COMPRESSION = parquet_config['compression']\n",
    "\n",
    "INPUT_PATH = '../data/data_parquet'\n",
    "OUTPUT_PATH = '../data/data_process/data_process_final'"
   ]
  },
  {
   "cell_type": "code",
   "execution_count": 19,
   "metadata": {},
   "outputs": [],
   "source": [
    "data = pd.concat([pd.read_parquet(f, engine=ENGINE) for f in glob.glob(f\"{INPUT_PATH}/combined/*.parquet\")], ignore_index=True)"
   ]
  },
  {
   "cell_type": "code",
   "execution_count": 20,
   "metadata": {},
   "outputs": [],
   "source": [
    "KEEP_COLUMNS = [\"id\", \"creation_time\", \"formatted_creation_time\", \"airline_code\", \"flight_number\", \"action_name\", \"header_line\", \"flight_id\"]\n",
    "data = data.drop(columns=[column for column in data.columns if column not in KEEP_COLUMNS])"
   ]
  },
  {
   "cell_type": "code",
   "execution_count": 21,
   "metadata": {},
   "outputs": [
    {
     "data": {
      "text/html": [
       "<div>\n",
       "<style scoped>\n",
       "    .dataframe tbody tr th:only-of-type {\n",
       "        vertical-align: middle;\n",
       "    }\n",
       "\n",
       "    .dataframe tbody tr th {\n",
       "        vertical-align: top;\n",
       "    }\n",
       "\n",
       "    .dataframe thead th {\n",
       "        text-align: right;\n",
       "    }\n",
       "</style>\n",
       "<table border=\"1\" class=\"dataframe\">\n",
       "  <thead>\n",
       "    <tr style=\"text-align: right;\">\n",
       "      <th></th>\n",
       "      <th>creation_time</th>\n",
       "      <th>formatted_creation_time</th>\n",
       "      <th>airline_code</th>\n",
       "      <th>flight_number</th>\n",
       "      <th>action_name</th>\n",
       "      <th>header_line</th>\n",
       "      <th>flight_id</th>\n",
       "    </tr>\n",
       "  </thead>\n",
       "  <tbody>\n",
       "    <tr>\n",
       "      <th>0</th>\n",
       "      <td>2024-05-07 05:52:54</td>\n",
       "      <td>07-05-2024 05:52:54</td>\n",
       "      <td>MN</td>\n",
       "      <td>1061</td>\n",
       "      <td>StorePaxDataAction</td>\n",
       "      <td>2024-05-07 05:52:54,127 INFO  [ea380e340254f09...</td>\n",
       "      <td>MN-1061-2024-8-5-DUB</td>\n",
       "    </tr>\n",
       "    <tr>\n",
       "      <th>1</th>\n",
       "      <td>2024-05-07 05:52:58</td>\n",
       "      <td>07-05-2024 05:52:58</td>\n",
       "      <td>MN</td>\n",
       "      <td>1119</td>\n",
       "      <td>StorePaxDataAction</td>\n",
       "      <td>2024-05-07 05:52:58,084 INFO  [c426c6873162f9f...</td>\n",
       "      <td>MN-1119-2024-8-5-DUB</td>\n",
       "    </tr>\n",
       "    <tr>\n",
       "      <th>2</th>\n",
       "      <td>2024-05-07 05:52:58</td>\n",
       "      <td>07-05-2024 05:52:58</td>\n",
       "      <td>MN</td>\n",
       "      <td>1119</td>\n",
       "      <td>StorePaxDataAction</td>\n",
       "      <td>2024-05-07 05:52:58,087 INFO  [c426c6873162f9f...</td>\n",
       "      <td>MN-1119-2024-8-5-DUB</td>\n",
       "    </tr>\n",
       "    <tr>\n",
       "      <th>3</th>\n",
       "      <td>2024-05-07 05:53:02</td>\n",
       "      <td>07-05-2024 05:53:02</td>\n",
       "      <td>MN</td>\n",
       "      <td>1162</td>\n",
       "      <td>StorePaxDataAction</td>\n",
       "      <td>2024-05-07 05:53:02,194 INFO  [22be48812e5c854...</td>\n",
       "      <td>MN-1162-2024-8-5-DUB</td>\n",
       "    </tr>\n",
       "    <tr>\n",
       "      <th>4</th>\n",
       "      <td>2024-05-07 05:53:02</td>\n",
       "      <td>07-05-2024 05:53:02</td>\n",
       "      <td>MN</td>\n",
       "      <td>1162</td>\n",
       "      <td>StorePaxDataAction</td>\n",
       "      <td>2024-05-07 05:53:02,195 INFO  [22be48812e5c854...</td>\n",
       "      <td>MN-1162-2024-8-5-DUB</td>\n",
       "    </tr>\n",
       "  </tbody>\n",
       "</table>\n",
       "</div>"
      ],
      "text/plain": [
       "        creation_time formatted_creation_time airline_code  flight_number  \\\n",
       "0 2024-05-07 05:52:54     07-05-2024 05:52:54           MN           1061   \n",
       "1 2024-05-07 05:52:58     07-05-2024 05:52:58           MN           1119   \n",
       "2 2024-05-07 05:52:58     07-05-2024 05:52:58           MN           1119   \n",
       "3 2024-05-07 05:53:02     07-05-2024 05:53:02           MN           1162   \n",
       "4 2024-05-07 05:53:02     07-05-2024 05:53:02           MN           1162   \n",
       "\n",
       "          action_name                                        header_line  \\\n",
       "0  StorePaxDataAction  2024-05-07 05:52:54,127 INFO  [ea380e340254f09...   \n",
       "1  StorePaxDataAction  2024-05-07 05:52:58,084 INFO  [c426c6873162f9f...   \n",
       "2  StorePaxDataAction  2024-05-07 05:52:58,087 INFO  [c426c6873162f9f...   \n",
       "3  StorePaxDataAction  2024-05-07 05:53:02,194 INFO  [22be48812e5c854...   \n",
       "4  StorePaxDataAction  2024-05-07 05:53:02,195 INFO  [22be48812e5c854...   \n",
       "\n",
       "              flight_id  \n",
       "0  MN-1061-2024-8-5-DUB  \n",
       "1  MN-1119-2024-8-5-DUB  \n",
       "2  MN-1119-2024-8-5-DUB  \n",
       "3  MN-1162-2024-8-5-DUB  \n",
       "4  MN-1162-2024-8-5-DUB  "
      ]
     },
     "execution_count": 21,
     "metadata": {},
     "output_type": "execute_result"
    }
   ],
   "source": [
    "data.head()"
   ]
  },
  {
   "cell_type": "markdown",
   "metadata": {},
   "source": [
    "### Extract the timestamp from header_line"
   ]
  },
  {
   "cell_type": "code",
   "execution_count": 22,
   "metadata": {},
   "outputs": [
    {
     "name": "stdout",
     "output_type": "stream",
     "text": [
      "  airline_code  flight_number         action_name             flight_id  \\\n",
      "0           MN           1061  StorePaxDataAction  MN-1061-2024-8-5-DUB   \n",
      "1           MN           1119  StorePaxDataAction  MN-1119-2024-8-5-DUB   \n",
      "2           MN           1119  StorePaxDataAction  MN-1119-2024-8-5-DUB   \n",
      "3           MN           1162  StorePaxDataAction  MN-1162-2024-8-5-DUB   \n",
      "4           MN           1162  StorePaxDataAction  MN-1162-2024-8-5-DUB   \n",
      "\n",
      "            extracted_time  \n",
      "0  2024-05-07 05:52:54,127  \n",
      "1  2024-05-07 05:52:58,084  \n",
      "2  2024-05-07 05:52:58,087  \n",
      "3  2024-05-07 05:53:02,194  \n",
      "4  2024-05-07 05:53:02,195  \n"
     ]
    }
   ],
   "source": [
    "def extract_time(time):\n",
    "    match = re.search(r'\\d{4}-\\d{2}-\\d{2} \\d{2}:\\d{2}:\\d{2},\\d{3}', time)\n",
    "    if match:\n",
    "        return match.group(0)\n",
    "    return None\n",
    "\n",
    "data['extracted_time'] = data['header_line'].apply(extract_time)\n",
    "\n",
    "DROP2_COLUMNS = ['header_line', 'creation_time', 'formatted_creation_time']\n",
    "data.drop(columns=DROP2_COLUMNS, inplace=True)\n",
    "print(data.head())\n",
    "\n",
    "data.to_csv(f'{OUTPUT_PATH}/final_data.csv', index=False)"
   ]
  },
  {
   "cell_type": "markdown",
   "metadata": {},
   "source": [
    "### Filtering for the different airlines for Celonis"
   ]
  },
  {
   "cell_type": "code",
   "execution_count": 23,
   "metadata": {},
   "outputs": [],
   "source": [
    "airline_codes = data['airline_code'].unique()\n",
    "\n",
    "for code in airline_codes:\n",
    "    filtered_df = data[data['airline_code'] == code]\n",
    "    filtered_df.to_csv(f\"{OUTPUT_PATH}/combined_data_{code}.csv\", index=False)"
   ]
  }
 ],
 "metadata": {
  "kernelspec": {
   "display_name": "Python 3",
   "language": "python",
   "name": "python3"
  },
  "language_info": {
   "codemirror_mode": {
    "name": "ipython",
    "version": 3
   },
   "file_extension": ".py",
   "mimetype": "text/x-python",
   "name": "python",
   "nbconvert_exporter": "python",
   "pygments_lexer": "ipython3",
   "version": "3.12.4"
  }
 },
 "nbformat": 4,
 "nbformat_minor": 2
}
