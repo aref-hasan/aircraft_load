{
 "cells": [
  {
   "cell_type": "code",
   "execution_count": 27,
   "metadata": {},
   "outputs": [],
   "source": [
    "import pandas as pd\n",
    "from pycelonis import get_celonis  # Stellen Sie sicher, dass Sie die richtige Import-Anweisung verwenden\n",
    "from pycelonis_core.utils.errors import PyCelonisNotFoundError\n",
    "import json\n",
    "\n",
    "# Laden und Vorverarbeiten der Daten\n",
    "AIRLINE_CODE = \"ZYXW\"\n",
    "df_airline = pd.read_parquet(f\"./{AIRLINE_CODE}_tripfiles_conv.parquet\", engine=\"pyarrow\")\n",
    "\n",
    "# Erstellen der flightid-Spalte\n",
    "df_airline[\"flightid\"] = df_airline.apply(\n",
    "    lambda x: f\"{x['airline_code']}_{x['flight_number']}_{x['flight_date']}_{x['departure_airport']}\",\n",
    "    axis=1,\n",
    ")\n",
    "\n",
    "# Entfernen von Duplikaten\n",
    "df_airline = df_airline.drop_duplicates(subset=[col for col in df_airline.columns if col != \"id\"])\n",
    "\n",
    "# Entfernen unnötiger Spalten\n",
    "df_airline.drop(\n",
    "    columns=[\n",
    "        \"id\",\n",
    "        \"airline_code\",\n",
    "        \"flight_number\",\n",
    "        \"flight_date\",\n",
    "        \"departure_airport\",\n",
    "        \"header_line\",\n",
    "        \"entry_details\",\n",
    "    ],\n",
    "    inplace=True,\n",
    ")\n",
    "\n",
    "# Konvertieren der creation_time in ein Datetime-Objekt\n",
    "df_airline[\"creation_time\"] = pd.to_datetime(df_airline[\"creation_time\"])\n",
    "\n",
    "output_csv_path = f\"./{AIRLINE_CODE}_tripfiles_conv.csv\"\n",
    "df_airline.to_csv(output_csv_path, index=False)"
   ]
  }
 ],
 "metadata": {
  "kernelspec": {
   "display_name": "manim-env",
   "language": "python",
   "name": "python3"
  },
  "language_info": {
   "codemirror_mode": {
    "name": "ipython",
    "version": 3
   },
   "file_extension": ".py",
   "mimetype": "text/x-python",
   "name": "python",
   "nbconvert_exporter": "python",
   "pygments_lexer": "ipython3",
   "version": "3.11.6"
  }
 },
 "nbformat": 4,
 "nbformat_minor": 2
}
